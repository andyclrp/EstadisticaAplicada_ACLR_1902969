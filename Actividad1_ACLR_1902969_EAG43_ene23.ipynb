{
 "cells": [
  {
   "cell_type": "markdown",
   "id": "830c486e",
   "metadata": {},
   "source": [
    "# Actividad 1 #\n",
    " - Nombre: Andrea Carolina López Ruiz \n",
    " - Matrícula:1902969 \n",
    " - Grupo: 043 "
   ]
  },
  {
   "cell_type": "markdown",
   "id": "8c6dff5e",
   "metadata": {},
   "source": [
    "1. Crea una lista con los nombres de pila de los integrantes de tu familia, la lista se llamara mi_familia"
   ]
  },
  {
   "cell_type": "code",
   "execution_count": 1,
   "id": "5f097edf",
   "metadata": {},
   "outputs": [],
   "source": [
    "#respuesta\n",
    "mi_familia1 = [\"Erendira\", \"Alejandro\", \"Ivan\", \"Daniela\"]\n",
    "mi_familia2 = [\"Erika\", \"Carolina\", \"Fernanda\", \"Eduardo\"]"
   ]
  },
  {
   "cell_type": "markdown",
   "id": "cc08db02",
   "metadata": {},
   "source": [
    "2. Crea una variable float que se llame mi_edad con tu edad\n",
    "Nota: las variables float contienen decimales"
   ]
  },
  {
   "cell_type": "code",
   "execution_count": 2,
   "id": "44320e0f",
   "metadata": {},
   "outputs": [],
   "source": [
    "#respuesta\n",
    "mi_edad1 = 20.0\n",
    "mi_edad2 = 21.0"
   ]
  },
  {
   "cell_type": "code",
   "execution_count": 3,
   "id": "d75917ff",
   "metadata": {
    "scrolled": true
   },
   "outputs": [
    {
     "data": {
      "text/plain": [
       "float"
      ]
     },
     "execution_count": 3,
     "metadata": {},
     "output_type": "execute_result"
    }
   ],
   "source": [
    "type(mi_edad1)"
   ]
  },
  {
   "cell_type": "code",
   "execution_count": 4,
   "id": "c3bee247",
   "metadata": {},
   "outputs": [
    {
     "data": {
      "text/plain": [
       "float"
      ]
     },
     "execution_count": 4,
     "metadata": {},
     "output_type": "execute_result"
    }
   ],
   "source": [
    "type(mi_edad2)"
   ]
  },
  {
   "cell_type": "markdown",
   "id": "ceb5c15d",
   "metadata": {},
   "source": [
    "3. Convierte la variable mi_edad a entero (int) y guardalo en mi_edad"
   ]
  },
  {
   "cell_type": "code",
   "execution_count": 5,
   "id": "d8bbba2a",
   "metadata": {},
   "outputs": [],
   "source": [
    "mi_edad1=int(mi_edad1)\n",
    "mi_edad2=int(mi_edad2)"
   ]
  },
  {
   "cell_type": "code",
   "execution_count": 6,
   "id": "20ec040b",
   "metadata": {},
   "outputs": [
    {
     "data": {
      "text/plain": [
       "int"
      ]
     },
     "execution_count": 6,
     "metadata": {},
     "output_type": "execute_result"
    }
   ],
   "source": [
    "type(mi_edad1)"
   ]
  },
  {
   "cell_type": "code",
   "execution_count": 7,
   "id": "22892568",
   "metadata": {},
   "outputs": [
    {
     "data": {
      "text/plain": [
       "int"
      ]
     },
     "execution_count": 7,
     "metadata": {},
     "output_type": "execute_result"
    }
   ],
   "source": [
    "type(mi_edad2)"
   ]
  },
  {
   "cell_type": "markdown",
   "id": "f9e7a68a",
   "metadata": {},
   "source": [
    "4. Con el comando len(objeto) muestra cuántos integrantes tiene tu familia"
   ]
  },
  {
   "cell_type": "code",
   "execution_count": 8,
   "id": "1608f323",
   "metadata": {},
   "outputs": [
    {
     "data": {
      "text/plain": [
       "4"
      ]
     },
     "execution_count": 8,
     "metadata": {},
     "output_type": "execute_result"
    }
   ],
   "source": [
    "len(mi_familia1)"
   ]
  },
  {
   "cell_type": "code",
   "execution_count": 9,
   "id": "3706c639",
   "metadata": {},
   "outputs": [
    {
     "data": {
      "text/plain": [
       "4"
      ]
     },
     "execution_count": 9,
     "metadata": {},
     "output_type": "execute_result"
    }
   ],
   "source": [
    "len(mi_familia2)"
   ]
  },
  {
   "cell_type": "markdown",
   "id": "d3624394",
   "metadata": {},
   "source": [
    "5. Utiliza print para que se imprima en pantalla tu edad"
   ]
  },
  {
   "cell_type": "code",
   "execution_count": 11,
   "id": "f53027c4",
   "metadata": {},
   "outputs": [
    {
     "name": "stdout",
     "output_type": "stream",
     "text": [
      "yo tengo 20 años\n",
      "yo tengo 21 años\n"
     ]
    }
   ],
   "source": [
    "print('yo tengo', mi_edad1, 'años')\n",
    "print('yo tengo', mi_edad2, 'años')"
   ]
  },
  {
   "cell_type": "markdown",
   "id": "5849e0cb",
   "metadata": {},
   "source": [
    "6. Utiliza print para mostrar cuantos integrantes tiene tu familia\n",
    "Ahora usa print(f'texto {objeto}'). Mira el ejemplo"
   ]
  },
  {
   "cell_type": "code",
   "execution_count": 12,
   "id": "a119db57",
   "metadata": {},
   "outputs": [
    {
     "name": "stdout",
     "output_type": "stream",
     "text": [
      "yo tengo 4 familiares\n",
      "yo tengo 4 familiares\n"
     ]
    }
   ],
   "source": [
    "print(f'yo tengo {len(mi_familia1)} familiares')\n",
    "print(f'yo tengo {len(mi_familia2)} familiares')"
   ]
  },
  {
   "cell_type": "markdown",
   "id": "afb235f3",
   "metadata": {},
   "source": [
    "7. Completa el siguiente codigo para que si tienes 20 o más años de edad se imprima \"tengo mas de 20 años\" y sino, se imprima \"tengo menos de 20 años\""
   ]
  },
  {
   "cell_type": "code",
   "execution_count": 13,
   "id": "e636b8fd",
   "metadata": {},
   "outputs": [
    {
     "name": "stdout",
     "output_type": "stream",
     "text": [
      "tengo menos de 20 años\n",
      "tengo mas de 20 años\n"
     ]
    }
   ],
   "source": [
    "if mi_edad1 >20 :\n",
    "    print(\"tengo mas de 20 años\")\n",
    "else:\n",
    "    print(\"tengo menos de 20 años\")\n",
    "    \n",
    "if mi_edad2 >20 :\n",
    "    print(\"tengo mas de 20 años\")\n",
    "else:\n",
    "    print(\"tengo menos de 20 años\")"
   ]
  },
  {
   "cell_type": "code",
   "execution_count": null,
   "id": "3cc94f3a",
   "metadata": {},
   "outputs": [],
   "source": []
  }
 ],
 "metadata": {
  "kernelspec": {
   "display_name": "Python 3 (ipykernel)",
   "language": "python",
   "name": "python3"
  },
  "language_info": {
   "codemirror_mode": {
    "name": "ipython",
    "version": 3
   },
   "file_extension": ".py",
   "mimetype": "text/x-python",
   "name": "python",
   "nbconvert_exporter": "python",
   "pygments_lexer": "ipython3",
   "version": "3.9.13"
  }
 },
 "nbformat": 4,
 "nbformat_minor": 5
}
