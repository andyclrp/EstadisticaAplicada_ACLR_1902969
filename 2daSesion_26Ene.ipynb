{
 "cells": [
  {
   "cell_type": "markdown",
   "id": "547ea0b1-649f-4cbd-b581-a223827fd4b8",
   "metadata": {},
   "source": [
    "# ESTADÍSTICA APLICADA #\n",
    "## ANDREA CAROLINA LÓPEZ RUIZ ##\n",
    "**26 ENERO - SESIÓN  2**"
   ]
  },
  {
   "cell_type": "code",
   "execution_count": 23,
   "id": "2d8e7675-9008-4270-9ccf-45b56e5cb513",
   "metadata": {},
   "outputs": [
    {
     "name": "stdout",
     "output_type": "stream",
     "text": [
      "Requirement already satisfied: yfinance in c:\\users\\evanp\\anaconda3\\lib\\site-packages (0.2.7)Note: you may need to restart the kernel to use updated packages.\n",
      "\n",
      "Requirement already satisfied: frozendict>=2.3.4 in c:\\users\\evanp\\anaconda3\\lib\\site-packages (from yfinance) (2.3.4)\n",
      "Requirement already satisfied: numpy>=1.16.5 in c:\\users\\evanp\\anaconda3\\lib\\site-packages (from yfinance) (1.21.5)\n",
      "Requirement already satisfied: pytz>=2022.5 in c:\\users\\evanp\\anaconda3\\lib\\site-packages (from yfinance) (2022.7.1)\n",
      "Requirement already satisfied: html5lib>=1.1 in c:\\users\\evanp\\anaconda3\\lib\\site-packages (from yfinance) (1.1)\n",
      "Requirement already satisfied: requests>=2.26 in c:\\users\\evanp\\anaconda3\\lib\\site-packages (from yfinance) (2.28.1)\n",
      "Requirement already satisfied: multitasking>=0.0.7 in c:\\users\\evanp\\anaconda3\\lib\\site-packages (from yfinance) (0.0.11)\n",
      "Requirement already satisfied: beautifulsoup4>=4.11.1 in c:\\users\\evanp\\anaconda3\\lib\\site-packages (from yfinance) (4.11.1)\n",
      "Requirement already satisfied: cryptography>=3.3.2 in c:\\users\\evanp\\anaconda3\\lib\\site-packages (from yfinance) (37.0.1)\n",
      "Requirement already satisfied: appdirs>=1.4.4 in c:\\users\\evanp\\anaconda3\\lib\\site-packages (from yfinance) (1.4.4)\n",
      "Requirement already satisfied: pandas>=1.3.0 in c:\\users\\evanp\\anaconda3\\lib\\site-packages (from yfinance) (1.4.4)\n",
      "Requirement already satisfied: lxml>=4.9.1 in c:\\users\\evanp\\anaconda3\\lib\\site-packages (from yfinance) (4.9.1)\n",
      "Requirement already satisfied: soupsieve>1.2 in c:\\users\\evanp\\anaconda3\\lib\\site-packages (from beautifulsoup4>=4.11.1->yfinance) (2.3.1)\n",
      "Requirement already satisfied: cffi>=1.12 in c:\\users\\evanp\\anaconda3\\lib\\site-packages (from cryptography>=3.3.2->yfinance) (1.15.1)\n",
      "Requirement already satisfied: six>=1.9 in c:\\users\\evanp\\anaconda3\\lib\\site-packages (from html5lib>=1.1->yfinance) (1.16.0)\n",
      "Requirement already satisfied: webencodings in c:\\users\\evanp\\anaconda3\\lib\\site-packages (from html5lib>=1.1->yfinance) (0.5.1)\n",
      "Requirement already satisfied: python-dateutil>=2.8.1 in c:\\users\\evanp\\anaconda3\\lib\\site-packages (from pandas>=1.3.0->yfinance) (2.8.2)\n",
      "Requirement already satisfied: idna<4,>=2.5 in c:\\users\\evanp\\anaconda3\\lib\\site-packages (from requests>=2.26->yfinance) (3.3)\n",
      "Requirement already satisfied: certifi>=2017.4.17 in c:\\users\\evanp\\anaconda3\\lib\\site-packages (from requests>=2.26->yfinance) (2022.9.14)\n",
      "Requirement already satisfied: charset-normalizer<3,>=2 in c:\\users\\evanp\\anaconda3\\lib\\site-packages (from requests>=2.26->yfinance) (2.0.4)\n",
      "Requirement already satisfied: urllib3<1.27,>=1.21.1 in c:\\users\\evanp\\anaconda3\\lib\\site-packages (from requests>=2.26->yfinance) (1.26.11)\n",
      "Requirement already satisfied: pycparser in c:\\users\\evanp\\anaconda3\\lib\\site-packages (from cffi>=1.12->cryptography>=3.3.2->yfinance) (2.21)\n"
     ]
    }
   ],
   "source": [
    "pip install yfinance"
   ]
  },
  {
   "cell_type": "code",
   "execution_count": 24,
   "id": "de57add5-0b41-4306-b729-4f2ae8bf4a15",
   "metadata": {},
   "outputs": [],
   "source": [
    "import yfinance as yf"
   ]
  },
  {
   "cell_type": "code",
   "execution_count": 25,
   "id": "5e53c31a-df53-4f9d-ab38-1f978482e5a7",
   "metadata": {},
   "outputs": [],
   "source": [
    "import numpy as np"
   ]
  },
  {
   "cell_type": "code",
   "execution_count": 26,
   "id": "8eb875af-0b2b-434f-a8f5-c6325a8706d1",
   "metadata": {},
   "outputs": [],
   "source": [
    "edades = [12,18,25,32,40]"
   ]
  },
  {
   "cell_type": "code",
   "execution_count": 27,
   "id": "f8f4f392-db6b-4b29-8bf3-4a8c4d79baf7",
   "metadata": {},
   "outputs": [
    {
     "data": {
      "text/plain": [
       "list"
      ]
     },
     "execution_count": 27,
     "metadata": {},
     "output_type": "execute_result"
    }
   ],
   "source": [
    "type(edades)"
   ]
  },
  {
   "cell_type": "code",
   "execution_count": 68,
   "id": "3183295f-c161-4e76-a2b0-3f5ce1d272db",
   "metadata": {
    "tags": []
   },
   "outputs": [
    {
     "data": {
      "text/plain": [
       "array([12, 18, 25, 32, 40])"
      ]
     },
     "execution_count": 68,
     "metadata": {},
     "output_type": "execute_result"
    }
   ],
   "source": [
    "np.array(edades)"
   ]
  },
  {
   "cell_type": "code",
   "execution_count": 29,
   "id": "f2533b1e-3e11-4713-a6a3-8701844287d5",
   "metadata": {},
   "outputs": [
    {
     "data": {
      "text/plain": [
       "25.4"
      ]
     },
     "execution_count": 29,
     "metadata": {},
     "output_type": "execute_result"
    }
   ],
   "source": [
    "np.mean(edades)"
   ]
  },
  {
   "cell_type": "code",
   "execution_count": 30,
   "id": "a2b53e04-39c7-434b-8baa-ca1f309f2c7c",
   "metadata": {},
   "outputs": [
    {
     "data": {
      "text/plain": [
       "6912000"
      ]
     },
     "execution_count": 30,
     "metadata": {},
     "output_type": "execute_result"
    }
   ],
   "source": [
    "np.prod(edades)"
   ]
  },
  {
   "cell_type": "code",
   "execution_count": 31,
   "id": "0d403bbd-16d3-4143-a37f-f856078b74d0",
   "metadata": {},
   "outputs": [
    {
     "data": {
      "text/plain": [
       "98.24000000000001"
      ]
     },
     "execution_count": 31,
     "metadata": {},
     "output_type": "execute_result"
    }
   ],
   "source": [
    "np.var(edades)"
   ]
  },
  {
   "cell_type": "code",
   "execution_count": 32,
   "id": "45263583-fb57-4342-a1cb-4f7e54d0eabf",
   "metadata": {},
   "outputs": [
    {
     "data": {
      "text/plain": [
       "122.80000000000001"
      ]
     },
     "execution_count": 32,
     "metadata": {},
     "output_type": "execute_result"
    }
   ],
   "source": [
    "np.var(edades,ddof=1)"
   ]
  },
  {
   "cell_type": "code",
   "execution_count": 33,
   "id": "25518c55-7888-4d3e-9f5d-6d66da823baf",
   "metadata": {},
   "outputs": [
    {
     "data": {
      "text/plain": [
       "9.911609354691095"
      ]
     },
     "execution_count": 33,
     "metadata": {},
     "output_type": "execute_result"
    }
   ],
   "source": [
    "np.std(edades)"
   ]
  },
  {
   "cell_type": "code",
   "execution_count": 34,
   "id": "f3802f3c-0758-47c2-82bd-a9ffc1ea4cfb",
   "metadata": {
    "tags": []
   },
   "outputs": [
    {
     "data": {
      "text/plain": [
       "array([0, 1, 2, 3, 4, 5, 6, 7, 8])"
      ]
     },
     "execution_count": 34,
     "metadata": {},
     "output_type": "execute_result"
    }
   ],
   "source": [
    "np.arange(9)"
   ]
  },
  {
   "cell_type": "code",
   "execution_count": 35,
   "id": "6f48f317-3471-4f74-8e77-7d26d9090d80",
   "metadata": {},
   "outputs": [
    {
     "data": {
      "text/plain": [
       "array([1, 2, 3, 4, 5, 6, 7, 8])"
      ]
     },
     "execution_count": 35,
     "metadata": {},
     "output_type": "execute_result"
    }
   ],
   "source": [
    "np.arange(1,9)"
   ]
  },
  {
   "cell_type": "code",
   "execution_count": 36,
   "id": "aad74d2e-bac1-4194-b7bc-455876b07213",
   "metadata": {},
   "outputs": [
    {
     "data": {
      "text/plain": [
       "array([ 1, 11, 21, 31, 41, 51, 61, 71, 81, 91])"
      ]
     },
     "execution_count": 36,
     "metadata": {},
     "output_type": "execute_result"
    }
   ],
   "source": [
    "np.arange(1,100,10)"
   ]
  },
  {
   "cell_type": "code",
   "execution_count": 37,
   "id": "b3ab71f7-d9a7-46de-8a1a-9a6786e4ab9b",
   "metadata": {},
   "outputs": [
    {
     "data": {
      "text/plain": [
       "array([0., 0., 0., 0., 0., 0., 0., 0., 0.])"
      ]
     },
     "execution_count": 37,
     "metadata": {},
     "output_type": "execute_result"
    }
   ],
   "source": [
    "np.zeros(9)"
   ]
  },
  {
   "cell_type": "code",
   "execution_count": 38,
   "id": "0d1ab891-dfeb-4512-bf4e-1662ac9b2c2b",
   "metadata": {},
   "outputs": [
    {
     "data": {
      "text/plain": [
       "array([1., 1., 1.])"
      ]
     },
     "execution_count": 38,
     "metadata": {},
     "output_type": "execute_result"
    }
   ],
   "source": [
    "np.ones(3)"
   ]
  },
  {
   "cell_type": "code",
   "execution_count": 40,
   "id": "a0ff25bf-3b65-45fa-9595-cc2199d4fc49",
   "metadata": {
    "tags": []
   },
   "outputs": [
    {
     "data": {
      "text/plain": [
       "array([20, 20,  1,  9, 19, 13, 14, 13, 13, 22])"
      ]
     },
     "execution_count": 40,
     "metadata": {},
     "output_type": "execute_result"
    }
   ],
   "source": [
    "#random int numbers\n",
    "np.random.randint(0,25,10)"
   ]
  },
  {
   "cell_type": "code",
   "execution_count": 43,
   "id": "663b989f-38fc-4d6a-8b5b-6ccedbf3de07",
   "metadata": {},
   "outputs": [
    {
     "data": {
      "text/plain": [
       "array([ 8, 21, 12,  5, 23,  0,  7, 11, 21, 22])"
      ]
     },
     "execution_count": 43,
     "metadata": {},
     "output_type": "execute_result"
    }
   ],
   "source": [
    "np.random.seed(15)\n",
    "np.random.randint(0,25,10)"
   ]
  },
  {
   "cell_type": "code",
   "execution_count": 45,
   "id": "1d55a5ca-89f1-49c1-9c90-2ebd3083e948",
   "metadata": {},
   "outputs": [],
   "source": [
    "np.random.seed(15)\n",
    "random = np.random.randint(0,25,10)"
   ]
  },
  {
   "cell_type": "code",
   "execution_count": 47,
   "id": "5176eb51-b575-4a3f-9ba3-3905598928c8",
   "metadata": {},
   "outputs": [
    {
     "data": {
      "text/plain": [
       "array([ 8, 21, 12,  5, 23,  0,  7, 11, 21, 22])"
      ]
     },
     "execution_count": 47,
     "metadata": {},
     "output_type": "execute_result"
    }
   ],
   "source": [
    "random"
   ]
  },
  {
   "cell_type": "code",
   "execution_count": 48,
   "id": "84bc364e-f449-4218-be41-f9251dffd9ec",
   "metadata": {},
   "outputs": [
    {
     "data": {
      "text/plain": [
       "array([ 0,  5,  7,  8, 11, 12, 21, 21, 22, 23])"
      ]
     },
     "execution_count": 48,
     "metadata": {},
     "output_type": "execute_result"
    }
   ],
   "source": [
    "np.sort (random)"
   ]
  },
  {
   "cell_type": "code",
   "execution_count": 50,
   "id": "eaa14cc5-e335-4792-9c7e-58361764996c",
   "metadata": {},
   "outputs": [],
   "source": [
    "random=np.sort (random)"
   ]
  },
  {
   "cell_type": "code",
   "execution_count": 51,
   "id": "8e381d00-7d00-4062-b494-666b890fbe66",
   "metadata": {},
   "outputs": [
    {
     "data": {
      "text/plain": [
       "array([ 0,  5,  7,  8, 11, 12, 21, 21, 22, 23])"
      ]
     },
     "execution_count": 51,
     "metadata": {},
     "output_type": "execute_result"
    }
   ],
   "source": [
    "random"
   ]
  },
  {
   "cell_type": "code",
   "execution_count": 52,
   "id": "7d2b62ce-12af-47a1-9c60-85250d2546a7",
   "metadata": {},
   "outputs": [
    {
     "data": {
      "text/plain": [
       "8"
      ]
     },
     "execution_count": 52,
     "metadata": {},
     "output_type": "execute_result"
    }
   ],
   "source": [
    "#python empieza en 0\n",
    "random[3]"
   ]
  },
  {
   "cell_type": "code",
   "execution_count": 53,
   "id": "9c1e4470-f44f-46e6-be58-94e78c586a23",
   "metadata": {},
   "outputs": [
    {
     "data": {
      "text/plain": [
       "array([ 8, 12])"
      ]
     },
     "execution_count": 53,
     "metadata": {},
     "output_type": "execute_result"
    }
   ],
   "source": [
    "random [[3,5]]"
   ]
  },
  {
   "cell_type": "code",
   "execution_count": 54,
   "id": "cf07710a-9d7e-4e36-b3e6-6bbe9ae09779",
   "metadata": {},
   "outputs": [
    {
     "data": {
      "text/plain": [
       "array([False, False,  True,  True,  True,  True,  True,  True,  True,\n",
       "        True])"
      ]
     },
     "execution_count": 54,
     "metadata": {},
     "output_type": "execute_result"
    }
   ],
   "source": [
    "random >5"
   ]
  },
  {
   "cell_type": "code",
   "execution_count": 56,
   "id": "7d386550-aad9-426a-ba91-094a1853bd82",
   "metadata": {},
   "outputs": [
    {
     "data": {
      "text/plain": [
       "array([ 7,  8, 11, 12, 21, 21, 22, 23])"
      ]
     },
     "execution_count": 56,
     "metadata": {},
     "output_type": "execute_result"
    }
   ],
   "source": [
    "random[random>5]"
   ]
  },
  {
   "cell_type": "code",
   "execution_count": 59,
   "id": "af3a767f-0f04-41aa-a659-5ab6b5f460df",
   "metadata": {},
   "outputs": [],
   "source": [
    "numbers = [1.58,12.4373774,7858.3483784]\n",
    "numbers=np.array(numbers)"
   ]
  },
  {
   "cell_type": "code",
   "execution_count": 61,
   "id": "f9aa73b0-fce4-47d2-b56c-2ddda2e1eed6",
   "metadata": {},
   "outputs": [
    {
     "data": {
      "text/plain": [
       "2624.1219186000003"
      ]
     },
     "execution_count": 61,
     "metadata": {},
     "output_type": "execute_result"
    }
   ],
   "source": [
    "#función \n",
    "np.mean(numbers)"
   ]
  },
  {
   "cell_type": "code",
   "execution_count": 62,
   "id": "c21dde2b-0b77-46e9-9466-a254925b7704",
   "metadata": {},
   "outputs": [
    {
     "data": {
      "text/plain": [
       "2624.1219186000003"
      ]
     },
     "execution_count": 62,
     "metadata": {},
     "output_type": "execute_result"
    }
   ],
   "source": [
    "#Método\n",
    "numbers.mean()"
   ]
  },
  {
   "cell_type": "code",
   "execution_count": 63,
   "id": "2ac92199-9c5c-4f67-b5b1-a49f6f00db96",
   "metadata": {},
   "outputs": [
    {
     "data": {
      "text/plain": [
       "2624"
      ]
     },
     "execution_count": 63,
     "metadata": {},
     "output_type": "execute_result"
    }
   ],
   "source": [
    "round(np.mean(np.array(numbers)))"
   ]
  },
  {
   "cell_type": "code",
   "execution_count": 65,
   "id": "6cec43e7-780a-477b-a5b7-7d104a2235a4",
   "metadata": {},
   "outputs": [
    {
     "data": {
      "text/plain": [
       "2624.12"
      ]
     },
     "execution_count": 65,
     "metadata": {},
     "output_type": "execute_result"
    }
   ],
   "source": [
    "np.array(numbers).mean().round(2)"
   ]
  },
  {
   "cell_type": "code",
   "execution_count": 66,
   "id": "0ac01483-19d0-446c-8e05-24889f1b7319",
   "metadata": {},
   "outputs": [
    {
     "data": {
      "text/plain": [
       "2624.12"
      ]
     },
     "execution_count": 66,
     "metadata": {},
     "output_type": "execute_result"
    }
   ],
   "source": [
    "numbers.mean().round(2)"
   ]
  }
 ],
 "metadata": {
  "kernelspec": {
   "display_name": "Python 3 (ipykernel)",
   "language": "python",
   "name": "python3"
  },
  "language_info": {
   "codemirror_mode": {
    "name": "ipython",
    "version": 3
   },
   "file_extension": ".py",
   "mimetype": "text/x-python",
   "name": "python",
   "nbconvert_exporter": "python",
   "pygments_lexer": "ipython3",
   "version": "3.9.13"
  }
 },
 "nbformat": 4,
 "nbformat_minor": 5
}
