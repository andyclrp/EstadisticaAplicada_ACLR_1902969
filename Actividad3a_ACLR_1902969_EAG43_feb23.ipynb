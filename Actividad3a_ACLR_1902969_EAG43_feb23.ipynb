{
 "cells": [
  {
   "cell_type": "markdown",
   "id": "3289d028-1e80-44bf-abb2-38517271756e",
   "metadata": {},
   "source": [
    "# Actividad 3a #\n",
    " - Nombre: Andrea Carolina López Ruiz \n",
    " - Matrícula:1902969 \n",
    " - Grupo: 043 "
   ]
  },
  {
   "cell_type": "markdown",
   "id": "b0c908c7-6f8c-40f5-a1d2-be3fa60861cd",
   "metadata": {},
   "source": [
    "##### Carga las dos librerias usadas (numpy, pandas ) "
   ]
  },
  {
   "cell_type": "code",
   "execution_count": 2,
   "id": "530085dd-90a4-4263-bd96-ec99820c1ad9",
   "metadata": {},
   "outputs": [],
   "source": [
    "import numpy as np\n",
    "import pandas as pd"
   ]
  },
  {
   "cell_type": "markdown",
   "id": "d117a698-d041-4b4c-a17f-69692c18b2b7",
   "metadata": {},
   "source": [
    "El siguiente comando importa un data frame desde un archivo csv de internet"
   ]
  },
  {
   "cell_type": "code",
   "execution_count": 4,
   "id": "6ee48f6e-09ea-4a85-899c-589d32f25155",
   "metadata": {},
   "outputs": [],
   "source": [
    " ventas = pd.read_csv(\"https://raw.githubusercontent.com/jimmyzac/Estadistica-Aplicada-FCFM-UANL/main/bases_datos/ventas1.csv\")"
   ]
  },
  {
   "cell_type": "markdown",
   "id": "cb873731-7d04-42ad-8e44-ce0093145452",
   "metadata": {},
   "source": [
    "mostrar las primeras 5 filas"
   ]
  },
  {
   "cell_type": "code",
   "execution_count": 6,
   "id": "1d2692c4-094e-4387-ba44-40b70bc487c1",
   "metadata": {},
   "outputs": [
    {
     "data": {
      "text/html": [
       "<div>\n",
       "<style scoped>\n",
       "    .dataframe tbody tr th:only-of-type {\n",
       "        vertical-align: middle;\n",
       "    }\n",
       "\n",
       "    .dataframe tbody tr th {\n",
       "        vertical-align: top;\n",
       "    }\n",
       "\n",
       "    .dataframe thead th {\n",
       "        text-align: right;\n",
       "    }\n",
       "</style>\n",
       "<table border=\"1\" class=\"dataframe\">\n",
       "  <thead>\n",
       "    <tr style=\"text-align: right;\">\n",
       "      <th></th>\n",
       "      <th>Año</th>\n",
       "      <th>Mes</th>\n",
       "      <th>Ventas</th>\n",
       "      <th>Gastos</th>\n",
       "    </tr>\n",
       "  </thead>\n",
       "  <tbody>\n",
       "    <tr>\n",
       "      <th>0</th>\n",
       "      <td>2015</td>\n",
       "      <td>Enero</td>\n",
       "      <td>160</td>\n",
       "      <td>71</td>\n",
       "    </tr>\n",
       "    <tr>\n",
       "      <th>1</th>\n",
       "      <td>2015</td>\n",
       "      <td>Febrero</td>\n",
       "      <td>191</td>\n",
       "      <td>125</td>\n",
       "    </tr>\n",
       "    <tr>\n",
       "      <th>2</th>\n",
       "      <td>2015</td>\n",
       "      <td>Marzo</td>\n",
       "      <td>177</td>\n",
       "      <td>72</td>\n",
       "    </tr>\n",
       "    <tr>\n",
       "      <th>3</th>\n",
       "      <td>2015</td>\n",
       "      <td>Abril</td>\n",
       "      <td>154</td>\n",
       "      <td>78</td>\n",
       "    </tr>\n",
       "    <tr>\n",
       "      <th>4</th>\n",
       "      <td>2015</td>\n",
       "      <td>Mayo</td>\n",
       "      <td>175</td>\n",
       "      <td>110</td>\n",
       "    </tr>\n",
       "  </tbody>\n",
       "</table>\n",
       "</div>"
      ],
      "text/plain": [
       "    Año      Mes  Ventas  Gastos\n",
       "0  2015    Enero     160      71\n",
       "1  2015  Febrero     191     125\n",
       "2  2015    Marzo     177      72\n",
       "3  2015    Abril     154      78\n",
       "4  2015     Mayo     175     110"
      ]
     },
     "execution_count": 6,
     "metadata": {},
     "output_type": "execute_result"
    }
   ],
   "source": [
    "ventas.head(5)"
   ]
  },
  {
   "cell_type": "markdown",
   "id": "93c9c68a-4a87-41c8-823d-c2fbb294ee3a",
   "metadata": {},
   "source": [
    "mostrar las ultimas 5 filas"
   ]
  },
  {
   "cell_type": "code",
   "execution_count": 7,
   "id": "6b30b859-fa3d-4ac3-b9ba-434a3ac311b6",
   "metadata": {},
   "outputs": [
    {
     "data": {
      "text/html": [
       "<div>\n",
       "<style scoped>\n",
       "    .dataframe tbody tr th:only-of-type {\n",
       "        vertical-align: middle;\n",
       "    }\n",
       "\n",
       "    .dataframe tbody tr th {\n",
       "        vertical-align: top;\n",
       "    }\n",
       "\n",
       "    .dataframe thead th {\n",
       "        text-align: right;\n",
       "    }\n",
       "</style>\n",
       "<table border=\"1\" class=\"dataframe\">\n",
       "  <thead>\n",
       "    <tr style=\"text-align: right;\">\n",
       "      <th></th>\n",
       "      <th>Año</th>\n",
       "      <th>Mes</th>\n",
       "      <th>Ventas</th>\n",
       "      <th>Gastos</th>\n",
       "    </tr>\n",
       "  </thead>\n",
       "  <tbody>\n",
       "    <tr>\n",
       "      <th>31</th>\n",
       "      <td>2017</td>\n",
       "      <td>Agosto</td>\n",
       "      <td>167</td>\n",
       "      <td>107</td>\n",
       "    </tr>\n",
       "    <tr>\n",
       "      <th>32</th>\n",
       "      <td>2017</td>\n",
       "      <td>Septiembre</td>\n",
       "      <td>197</td>\n",
       "      <td>111</td>\n",
       "    </tr>\n",
       "    <tr>\n",
       "      <th>33</th>\n",
       "      <td>2017</td>\n",
       "      <td>Octubre</td>\n",
       "      <td>160</td>\n",
       "      <td>53</td>\n",
       "    </tr>\n",
       "    <tr>\n",
       "      <th>34</th>\n",
       "      <td>2017</td>\n",
       "      <td>Noviembre</td>\n",
       "      <td>171</td>\n",
       "      <td>91</td>\n",
       "    </tr>\n",
       "    <tr>\n",
       "      <th>35</th>\n",
       "      <td>2017</td>\n",
       "      <td>Diciembre</td>\n",
       "      <td>110</td>\n",
       "      <td>66</td>\n",
       "    </tr>\n",
       "  </tbody>\n",
       "</table>\n",
       "</div>"
      ],
      "text/plain": [
       "     Año         Mes  Ventas  Gastos\n",
       "31  2017      Agosto     167     107\n",
       "32  2017  Septiembre     197     111\n",
       "33  2017     Octubre     160      53\n",
       "34  2017   Noviembre     171      91\n",
       "35  2017   Diciembre     110      66"
      ]
     },
     "execution_count": 7,
     "metadata": {},
     "output_type": "execute_result"
    }
   ],
   "source": [
    "ventas.tail(5)"
   ]
  },
  {
   "cell_type": "markdown",
   "id": "5e7ce0fb-1988-45cd-9ef5-fb01bd0302e4",
   "metadata": {},
   "source": [
    "1.Crea una nueva columna que se llame Ganancias y que contenga la diferencia entre ventas-gastos"
   ]
  },
  {
   "cell_type": "code",
   "execution_count": 11,
   "id": "55150632-1387-4dc5-9171-74e78c702e81",
   "metadata": {},
   "outputs": [],
   "source": [
    "ventas['Ganancias']=ventas['Ventas']-ventas['Gastos']"
   ]
  },
  {
   "cell_type": "markdown",
   "id": "5960f1f4-fe86-44e2-b940-4f87ec581576",
   "metadata": {},
   "source": [
    "2.Muestra el dataframe que incluye esta columna"
   ]
  },
  {
   "cell_type": "code",
   "execution_count": 13,
   "id": "0a97571f-2655-4832-8b42-92dc994f7d18",
   "metadata": {},
   "outputs": [
    {
     "data": {
      "text/html": [
       "<div>\n",
       "<style scoped>\n",
       "    .dataframe tbody tr th:only-of-type {\n",
       "        vertical-align: middle;\n",
       "    }\n",
       "\n",
       "    .dataframe tbody tr th {\n",
       "        vertical-align: top;\n",
       "    }\n",
       "\n",
       "    .dataframe thead th {\n",
       "        text-align: right;\n",
       "    }\n",
       "</style>\n",
       "<table border=\"1\" class=\"dataframe\">\n",
       "  <thead>\n",
       "    <tr style=\"text-align: right;\">\n",
       "      <th></th>\n",
       "      <th>Año</th>\n",
       "      <th>Mes</th>\n",
       "      <th>Ventas</th>\n",
       "      <th>Gastos</th>\n",
       "      <th>Ganancias</th>\n",
       "    </tr>\n",
       "  </thead>\n",
       "  <tbody>\n",
       "    <tr>\n",
       "      <th>0</th>\n",
       "      <td>2015</td>\n",
       "      <td>Enero</td>\n",
       "      <td>160</td>\n",
       "      <td>71</td>\n",
       "      <td>89</td>\n",
       "    </tr>\n",
       "    <tr>\n",
       "      <th>1</th>\n",
       "      <td>2015</td>\n",
       "      <td>Febrero</td>\n",
       "      <td>191</td>\n",
       "      <td>125</td>\n",
       "      <td>66</td>\n",
       "    </tr>\n",
       "    <tr>\n",
       "      <th>2</th>\n",
       "      <td>2015</td>\n",
       "      <td>Marzo</td>\n",
       "      <td>177</td>\n",
       "      <td>72</td>\n",
       "      <td>105</td>\n",
       "    </tr>\n",
       "    <tr>\n",
       "      <th>3</th>\n",
       "      <td>2015</td>\n",
       "      <td>Abril</td>\n",
       "      <td>154</td>\n",
       "      <td>78</td>\n",
       "      <td>76</td>\n",
       "    </tr>\n",
       "    <tr>\n",
       "      <th>4</th>\n",
       "      <td>2015</td>\n",
       "      <td>Mayo</td>\n",
       "      <td>175</td>\n",
       "      <td>110</td>\n",
       "      <td>65</td>\n",
       "    </tr>\n",
       "    <tr>\n",
       "      <th>5</th>\n",
       "      <td>2015</td>\n",
       "      <td>Junio</td>\n",
       "      <td>143</td>\n",
       "      <td>56</td>\n",
       "      <td>87</td>\n",
       "    </tr>\n",
       "    <tr>\n",
       "      <th>6</th>\n",
       "      <td>2015</td>\n",
       "      <td>Julio</td>\n",
       "      <td>109</td>\n",
       "      <td>97</td>\n",
       "      <td>12</td>\n",
       "    </tr>\n",
       "    <tr>\n",
       "      <th>7</th>\n",
       "      <td>2015</td>\n",
       "      <td>Agosto</td>\n",
       "      <td>104</td>\n",
       "      <td>100</td>\n",
       "      <td>4</td>\n",
       "    </tr>\n",
       "    <tr>\n",
       "      <th>8</th>\n",
       "      <td>2015</td>\n",
       "      <td>Septiembre</td>\n",
       "      <td>176</td>\n",
       "      <td>80</td>\n",
       "      <td>96</td>\n",
       "    </tr>\n",
       "    <tr>\n",
       "      <th>9</th>\n",
       "      <td>2015</td>\n",
       "      <td>Octubre</td>\n",
       "      <td>198</td>\n",
       "      <td>51</td>\n",
       "      <td>147</td>\n",
       "    </tr>\n",
       "    <tr>\n",
       "      <th>10</th>\n",
       "      <td>2015</td>\n",
       "      <td>Noviembre</td>\n",
       "      <td>120</td>\n",
       "      <td>54</td>\n",
       "      <td>66</td>\n",
       "    </tr>\n",
       "    <tr>\n",
       "      <th>11</th>\n",
       "      <td>2015</td>\n",
       "      <td>Diciembre</td>\n",
       "      <td>149</td>\n",
       "      <td>119</td>\n",
       "      <td>30</td>\n",
       "    </tr>\n",
       "    <tr>\n",
       "      <th>12</th>\n",
       "      <td>2016</td>\n",
       "      <td>Enero</td>\n",
       "      <td>111</td>\n",
       "      <td>92</td>\n",
       "      <td>19</td>\n",
       "    </tr>\n",
       "    <tr>\n",
       "      <th>13</th>\n",
       "      <td>2016</td>\n",
       "      <td>Febrero</td>\n",
       "      <td>198</td>\n",
       "      <td>86</td>\n",
       "      <td>112</td>\n",
       "    </tr>\n",
       "    <tr>\n",
       "      <th>14</th>\n",
       "      <td>2016</td>\n",
       "      <td>Marzo</td>\n",
       "      <td>194</td>\n",
       "      <td>101</td>\n",
       "      <td>93</td>\n",
       "    </tr>\n",
       "    <tr>\n",
       "      <th>15</th>\n",
       "      <td>2016</td>\n",
       "      <td>Abril</td>\n",
       "      <td>171</td>\n",
       "      <td>102</td>\n",
       "      <td>69</td>\n",
       "    </tr>\n",
       "    <tr>\n",
       "      <th>16</th>\n",
       "      <td>2016</td>\n",
       "      <td>Mayo</td>\n",
       "      <td>128</td>\n",
       "      <td>64</td>\n",
       "      <td>64</td>\n",
       "    </tr>\n",
       "    <tr>\n",
       "      <th>17</th>\n",
       "      <td>2016</td>\n",
       "      <td>Junio</td>\n",
       "      <td>105</td>\n",
       "      <td>107</td>\n",
       "      <td>-2</td>\n",
       "    </tr>\n",
       "    <tr>\n",
       "      <th>18</th>\n",
       "      <td>2016</td>\n",
       "      <td>Julio</td>\n",
       "      <td>172</td>\n",
       "      <td>117</td>\n",
       "      <td>55</td>\n",
       "    </tr>\n",
       "    <tr>\n",
       "      <th>19</th>\n",
       "      <td>2016</td>\n",
       "      <td>Agosto</td>\n",
       "      <td>148</td>\n",
       "      <td>110</td>\n",
       "      <td>38</td>\n",
       "    </tr>\n",
       "    <tr>\n",
       "      <th>20</th>\n",
       "      <td>2016</td>\n",
       "      <td>Septiembre</td>\n",
       "      <td>134</td>\n",
       "      <td>85</td>\n",
       "      <td>49</td>\n",
       "    </tr>\n",
       "    <tr>\n",
       "      <th>21</th>\n",
       "      <td>2016</td>\n",
       "      <td>Octubre</td>\n",
       "      <td>192</td>\n",
       "      <td>70</td>\n",
       "      <td>122</td>\n",
       "    </tr>\n",
       "    <tr>\n",
       "      <th>22</th>\n",
       "      <td>2016</td>\n",
       "      <td>Noviembre</td>\n",
       "      <td>156</td>\n",
       "      <td>65</td>\n",
       "      <td>91</td>\n",
       "    </tr>\n",
       "    <tr>\n",
       "      <th>23</th>\n",
       "      <td>2016</td>\n",
       "      <td>Diciembre</td>\n",
       "      <td>165</td>\n",
       "      <td>120</td>\n",
       "      <td>45</td>\n",
       "    </tr>\n",
       "    <tr>\n",
       "      <th>24</th>\n",
       "      <td>2017</td>\n",
       "      <td>Enero</td>\n",
       "      <td>133</td>\n",
       "      <td>117</td>\n",
       "      <td>16</td>\n",
       "    </tr>\n",
       "    <tr>\n",
       "      <th>25</th>\n",
       "      <td>2017</td>\n",
       "      <td>Febrero</td>\n",
       "      <td>128</td>\n",
       "      <td>56</td>\n",
       "      <td>72</td>\n",
       "    </tr>\n",
       "    <tr>\n",
       "      <th>26</th>\n",
       "      <td>2017</td>\n",
       "      <td>Marzo</td>\n",
       "      <td>125</td>\n",
       "      <td>89</td>\n",
       "      <td>36</td>\n",
       "    </tr>\n",
       "    <tr>\n",
       "      <th>27</th>\n",
       "      <td>2017</td>\n",
       "      <td>Abril</td>\n",
       "      <td>168</td>\n",
       "      <td>52</td>\n",
       "      <td>116</td>\n",
       "    </tr>\n",
       "    <tr>\n",
       "      <th>28</th>\n",
       "      <td>2017</td>\n",
       "      <td>Mayo</td>\n",
       "      <td>168</td>\n",
       "      <td>59</td>\n",
       "      <td>109</td>\n",
       "    </tr>\n",
       "    <tr>\n",
       "      <th>29</th>\n",
       "      <td>2017</td>\n",
       "      <td>Junio</td>\n",
       "      <td>141</td>\n",
       "      <td>122</td>\n",
       "      <td>19</td>\n",
       "    </tr>\n",
       "    <tr>\n",
       "      <th>30</th>\n",
       "      <td>2017</td>\n",
       "      <td>Julio</td>\n",
       "      <td>105</td>\n",
       "      <td>64</td>\n",
       "      <td>41</td>\n",
       "    </tr>\n",
       "    <tr>\n",
       "      <th>31</th>\n",
       "      <td>2017</td>\n",
       "      <td>Agosto</td>\n",
       "      <td>167</td>\n",
       "      <td>107</td>\n",
       "      <td>60</td>\n",
       "    </tr>\n",
       "    <tr>\n",
       "      <th>32</th>\n",
       "      <td>2017</td>\n",
       "      <td>Septiembre</td>\n",
       "      <td>197</td>\n",
       "      <td>111</td>\n",
       "      <td>86</td>\n",
       "    </tr>\n",
       "    <tr>\n",
       "      <th>33</th>\n",
       "      <td>2017</td>\n",
       "      <td>Octubre</td>\n",
       "      <td>160</td>\n",
       "      <td>53</td>\n",
       "      <td>107</td>\n",
       "    </tr>\n",
       "    <tr>\n",
       "      <th>34</th>\n",
       "      <td>2017</td>\n",
       "      <td>Noviembre</td>\n",
       "      <td>171</td>\n",
       "      <td>91</td>\n",
       "      <td>80</td>\n",
       "    </tr>\n",
       "    <tr>\n",
       "      <th>35</th>\n",
       "      <td>2017</td>\n",
       "      <td>Diciembre</td>\n",
       "      <td>110</td>\n",
       "      <td>66</td>\n",
       "      <td>44</td>\n",
       "    </tr>\n",
       "  </tbody>\n",
       "</table>\n",
       "</div>"
      ],
      "text/plain": [
       "     Año         Mes  Ventas  Gastos  Ganancias\n",
       "0   2015       Enero     160      71         89\n",
       "1   2015     Febrero     191     125         66\n",
       "2   2015       Marzo     177      72        105\n",
       "3   2015       Abril     154      78         76\n",
       "4   2015        Mayo     175     110         65\n",
       "5   2015       Junio     143      56         87\n",
       "6   2015       Julio     109      97         12\n",
       "7   2015      Agosto     104     100          4\n",
       "8   2015  Septiembre     176      80         96\n",
       "9   2015     Octubre     198      51        147\n",
       "10  2015   Noviembre     120      54         66\n",
       "11  2015   Diciembre     149     119         30\n",
       "12  2016       Enero     111      92         19\n",
       "13  2016     Febrero     198      86        112\n",
       "14  2016       Marzo     194     101         93\n",
       "15  2016       Abril     171     102         69\n",
       "16  2016        Mayo     128      64         64\n",
       "17  2016       Junio     105     107         -2\n",
       "18  2016       Julio     172     117         55\n",
       "19  2016      Agosto     148     110         38\n",
       "20  2016  Septiembre     134      85         49\n",
       "21  2016     Octubre     192      70        122\n",
       "22  2016   Noviembre     156      65         91\n",
       "23  2016   Diciembre     165     120         45\n",
       "24  2017       Enero     133     117         16\n",
       "25  2017     Febrero     128      56         72\n",
       "26  2017       Marzo     125      89         36\n",
       "27  2017       Abril     168      52        116\n",
       "28  2017        Mayo     168      59        109\n",
       "29  2017       Junio     141     122         19\n",
       "30  2017       Julio     105      64         41\n",
       "31  2017      Agosto     167     107         60\n",
       "32  2017  Septiembre     197     111         86\n",
       "33  2017     Octubre     160      53        107\n",
       "34  2017   Noviembre     171      91         80\n",
       "35  2017   Diciembre     110      66         44"
      ]
     },
     "execution_count": 13,
     "metadata": {},
     "output_type": "execute_result"
    }
   ],
   "source": [
    "ventas"
   ]
  },
  {
   "cell_type": "markdown",
   "id": "cf88f0cb-19dd-42b7-9b29-b2ff2d7425b1",
   "metadata": {},
   "source": [
    "3.Calcula e imprime las ventas totales, gastos totales y ganacias totales de todo el periodo\n",
    "Ejemplo de mensaje= las ventas totales son:\n",
    "etc"
   ]
  },
  {
   "cell_type": "code",
   "execution_count": 17,
   "id": "f5556003-98b5-4927-b34f-12e77dc3a7cd",
   "metadata": {},
   "outputs": [
    {
     "name": "stdout",
     "output_type": "stream",
     "text": [
      "Las ventas totales son: 5503\n",
      "Los gastos son: 3119\n",
      "Las ganancias totales son: 2384\n"
     ]
    }
   ],
   "source": [
    "ventas_t=ventas['Ventas'].sum()\n",
    "gastos_t=ventas['Gastos'].sum()\n",
    "ganancias_t=ventas['Ganancias'].sum()\n",
    "print(\"Las ventas totales son:\",ventas_t)\n",
    "print(\"Los gastos son:\",gastos_t)\n",
    "print(\"Las ganancias totales son:\",ganancias_t)"
   ]
  },
  {
   "cell_type": "markdown",
   "id": "3e63993b-f436-40df-b18a-e4ab96dcd192",
   "metadata": {},
   "source": [
    "4.Calcula e imprime las ventas promedio, gastos promedio y ganacias promedio de todo el periodo\n",
    "Ejemplo de mensaje= las ventas promedio son:\n"
   ]
  },
  {
   "cell_type": "code",
   "execution_count": 18,
   "id": "924424d1-8108-4de3-9333-06a933ffc951",
   "metadata": {},
   "outputs": [
    {
     "name": "stdout",
     "output_type": "stream",
     "text": [
      "Las ventas promedio son: 5503\n",
      "Los gastos promedio son: 3119\n",
      "Las ganancias promedio son: 2384\n"
     ]
    }
   ],
   "source": [
    "ventas_p=ventas['Ventas'].mean()\n",
    "gastos_p=ventas['Gastos'].mean()\n",
    "ganancias_p=ventas['Ganancias'].mean()\n",
    "print(\"Las ventas promedio son:\",ventas_t)\n",
    "print(\"Los gastos promedio son:\",gastos_t)\n",
    "print(\"Las ganancias promedio son:\",ganancias_t)"
   ]
  },
  {
   "cell_type": "markdown",
   "id": "0a90d713-489e-453f-be65-f22a3c91f626",
   "metadata": {},
   "source": [
    "5.Calcula e imprime las ventas promedio de 2015"
   ]
  },
  {
   "cell_type": "code",
   "execution_count": 37,
   "id": "f8bb0141-8a34-4f48-866b-c5fa63e5d792",
   "metadata": {},
   "outputs": [
    {
     "data": {
      "text/plain": [
       "Año\n",
       "2015    154.666667\n",
       "2016    156.166667\n",
       "2017    147.750000\n",
       "Name: Ventas, dtype: float64"
      ]
     },
     "execution_count": 37,
     "metadata": {},
     "output_type": "execute_result"
    }
   ],
   "source": [
    "ventas.groupby('Año').mean() ['Ventas']"
   ]
  },
  {
   "cell_type": "code",
   "execution_count": 40,
   "id": "420a2c59-c7c8-4ee3-aa36-5822b702afc3",
   "metadata": {},
   "outputs": [
    {
     "name": "stdout",
     "output_type": "stream",
     "text": [
      "Las ventas promedio del 2015 son: 154.66666666666666\n"
     ]
    }
   ],
   "source": [
    "a2015=ventas.head(12)\n",
    "prom=a2015['Ventas'].mean()\n",
    "print(\"Las ventas promedio del 2015 son:\",prom)"
   ]
  },
  {
   "cell_type": "markdown",
   "id": "c8bd09b3-85af-45a8-8b8b-a1264822cd8f",
   "metadata": {},
   "source": [
    "6.Calcula e imprime las ventas totales para los 3 meses de enero. Es decir la suma de enero de 2015, enero de 2016 y enero de 2017"
   ]
  },
  {
   "cell_type": "code",
   "execution_count": 44,
   "id": "7eb4ce81-ff91-4b4b-a94f-e4b8d3e26364",
   "metadata": {},
   "outputs": [
    {
     "data": {
      "text/plain": [
       "Mes\n",
       "Abril         493\n",
       "Agosto        419\n",
       "Diciembre     424\n",
       "Enero         404\n",
       "Febrero       517\n",
       "Julio         386\n",
       "Junio         389\n",
       "Marzo         496\n",
       "Mayo          471\n",
       "Noviembre     447\n",
       "Octubre       550\n",
       "Septiembre    507\n",
       "Name: Ventas, dtype: int64"
      ]
     },
     "execution_count": 44,
     "metadata": {},
     "output_type": "execute_result"
    }
   ],
   "source": [
    "ventas.groupby('Mes').sum() ['Ventas']"
   ]
  },
  {
   "cell_type": "code",
   "execution_count": 49,
   "id": "2501331b-b560-45b3-8997-f28801bdf77e",
   "metadata": {},
   "outputs": [],
   "source": [
    "v_enero = ventas[ventas['Mes']=='Enero']\n",
    "sumE=v_enero ['Ventas'].sum()\n"
   ]
  },
  {
   "cell_type": "code",
   "execution_count": 50,
   "id": "c52c2184-cb53-49fb-9a00-f6cd5cca26fb",
   "metadata": {},
   "outputs": [
    {
     "name": "stdout",
     "output_type": "stream",
     "text": [
      "Las ventas totales son: 404\n"
     ]
    }
   ],
   "source": [
    "print(\"Las ventas totales son:\", sumE)"
   ]
  },
  {
   "cell_type": "markdown",
   "id": "45e2e988-91e8-4370-8040-fe6ac8278e0e",
   "metadata": {},
   "source": [
    "7.Calcula las ventas promedio por mes, guardalo en un dataframe y por ultimo muestra ordenado por ventas promedio de menor a mayor"
   ]
  },
  {
   "cell_type": "code",
   "execution_count": 28,
   "id": "16eca5b9-d220-47b5-be67-206ff34f10d5",
   "metadata": {},
   "outputs": [
    {
     "data": {
      "text/html": [
       "<div>\n",
       "<style scoped>\n",
       "    .dataframe tbody tr th:only-of-type {\n",
       "        vertical-align: middle;\n",
       "    }\n",
       "\n",
       "    .dataframe tbody tr th {\n",
       "        vertical-align: top;\n",
       "    }\n",
       "\n",
       "    .dataframe thead th {\n",
       "        text-align: right;\n",
       "    }\n",
       "</style>\n",
       "<table border=\"1\" class=\"dataframe\">\n",
       "  <thead>\n",
       "    <tr style=\"text-align: right;\">\n",
       "      <th></th>\n",
       "      <th>Ventas</th>\n",
       "    </tr>\n",
       "    <tr>\n",
       "      <th>Mes</th>\n",
       "      <th></th>\n",
       "    </tr>\n",
       "  </thead>\n",
       "  <tbody>\n",
       "    <tr>\n",
       "      <th>Julio</th>\n",
       "      <td>128.666667</td>\n",
       "    </tr>\n",
       "    <tr>\n",
       "      <th>Junio</th>\n",
       "      <td>129.666667</td>\n",
       "    </tr>\n",
       "    <tr>\n",
       "      <th>Enero</th>\n",
       "      <td>134.666667</td>\n",
       "    </tr>\n",
       "    <tr>\n",
       "      <th>Agosto</th>\n",
       "      <td>139.666667</td>\n",
       "    </tr>\n",
       "    <tr>\n",
       "      <th>Diciembre</th>\n",
       "      <td>141.333333</td>\n",
       "    </tr>\n",
       "    <tr>\n",
       "      <th>Noviembre</th>\n",
       "      <td>149.000000</td>\n",
       "    </tr>\n",
       "    <tr>\n",
       "      <th>Mayo</th>\n",
       "      <td>157.000000</td>\n",
       "    </tr>\n",
       "    <tr>\n",
       "      <th>Abril</th>\n",
       "      <td>164.333333</td>\n",
       "    </tr>\n",
       "    <tr>\n",
       "      <th>Marzo</th>\n",
       "      <td>165.333333</td>\n",
       "    </tr>\n",
       "    <tr>\n",
       "      <th>Septiembre</th>\n",
       "      <td>169.000000</td>\n",
       "    </tr>\n",
       "    <tr>\n",
       "      <th>Febrero</th>\n",
       "      <td>172.333333</td>\n",
       "    </tr>\n",
       "    <tr>\n",
       "      <th>Octubre</th>\n",
       "      <td>183.333333</td>\n",
       "    </tr>\n",
       "  </tbody>\n",
       "</table>\n",
       "</div>"
      ],
      "text/plain": [
       "                Ventas\n",
       "Mes                   \n",
       "Julio       128.666667\n",
       "Junio       129.666667\n",
       "Enero       134.666667\n",
       "Agosto      139.666667\n",
       "Diciembre   141.333333\n",
       "Noviembre   149.000000\n",
       "Mayo        157.000000\n",
       "Abril       164.333333\n",
       "Marzo       165.333333\n",
       "Septiembre  169.000000\n",
       "Febrero     172.333333\n",
       "Octubre     183.333333"
      ]
     },
     "execution_count": 28,
     "metadata": {},
     "output_type": "execute_result"
    }
   ],
   "source": [
    "ventas_M=ventas.groupby('Mes').mean() ['Ventas']\n",
    "ventas_M=pd.DataFrame(ventas_M)\n",
    "ventas_M.sort_values('Ventas',ascending=True)"
   ]
  }
 ],
 "metadata": {
  "kernelspec": {
   "display_name": "Python 3 (ipykernel)",
   "language": "python",
   "name": "python3"
  },
  "language_info": {
   "codemirror_mode": {
    "name": "ipython",
    "version": 3
   },
   "file_extension": ".py",
   "mimetype": "text/x-python",
   "name": "python",
   "nbconvert_exporter": "python",
   "pygments_lexer": "ipython3",
   "version": "3.9.13"
  }
 },
 "nbformat": 4,
 "nbformat_minor": 5
}
