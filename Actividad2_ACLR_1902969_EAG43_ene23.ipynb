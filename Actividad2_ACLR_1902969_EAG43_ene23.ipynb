{
 "cells": [
  {
   "cell_type": "markdown",
   "id": "f10bb097-851b-4906-87ae-1785272ece19",
   "metadata": {},
   "source": [
    "# Actividad 2 #\n",
    " - Nombre: Andrea Carolina López Ruiz \n",
    " - Matrícula:1902969 \n",
    " - Grupo: 043 "
   ]
  },
  {
   "cell_type": "markdown",
   "id": "4331c459-d311-4498-892a-924b0d5323ed",
   "metadata": {},
   "source": [
    "1.Contamos con la edad de las personas de San Andres, un pueblito de la sierra de Nuevo León, que cuenta con 50 habitantes en total. Genera una lista con la edad de los 50 habitantes de San Andres. la lista debe llamarse \"edades_pueblito\""
   ]
  },
  {
   "cell_type": "code",
   "execution_count": 3,
   "id": "40340550-1a84-4728-8643-786e7b3c8186",
   "metadata": {},
   "outputs": [],
   "source": [
    "edades_pueblito=[23, 80, 99, 66, 87, 31, 61, \n",
    "                 21, 54, 76, 78, 17, 14, 26, \n",
    "                 100, 34, 1, 70, 5, 31, 51, \n",
    "                 47, 81, 69, 45, 40, 8, 44, \n",
    "                 60, 77, 93, 22, 91, 4, 37, \n",
    "                 87, 34, 98, 29, 7, 63, 11, \n",
    "                 91, 86, 20, 33, 90, 72, 61]"
   ]
  },
  {
   "cell_type": "code",
   "execution_count": 4,
   "id": "b82decd5-60a9-4deb-999e-142ba9a3c97e",
   "metadata": {},
   "outputs": [
    {
     "data": {
      "text/plain": [
       "[23,\n",
       " 80,\n",
       " 99,\n",
       " 66,\n",
       " 87,\n",
       " 31,\n",
       " 61,\n",
       " 21,\n",
       " 54,\n",
       " 76,\n",
       " 78,\n",
       " 17,\n",
       " 14,\n",
       " 26,\n",
       " 100,\n",
       " 34,\n",
       " 1,\n",
       " 70,\n",
       " 5,\n",
       " 31,\n",
       " 51,\n",
       " 47,\n",
       " 81,\n",
       " 69,\n",
       " 45,\n",
       " 40,\n",
       " 8,\n",
       " 44,\n",
       " 60,\n",
       " 77,\n",
       " 93,\n",
       " 22,\n",
       " 91,\n",
       " 4,\n",
       " 37,\n",
       " 87,\n",
       " 34,\n",
       " 98,\n",
       " 29,\n",
       " 7,\n",
       " 63,\n",
       " 11,\n",
       " 91,\n",
       " 86,\n",
       " 20,\n",
       " 33,\n",
       " 90,\n",
       " 72,\n",
       " 61]"
      ]
     },
     "execution_count": 4,
     "metadata": {},
     "output_type": "execute_result"
    }
   ],
   "source": [
    "edades_pueblito"
   ]
  },
  {
   "cell_type": "code",
   "execution_count": 5,
   "id": "41a50883-0051-4539-83ca-61506aaf1557",
   "metadata": {},
   "outputs": [
    {
     "data": {
      "text/plain": [
       "list"
      ]
     },
     "execution_count": 5,
     "metadata": {},
     "output_type": "execute_result"
    }
   ],
   "source": [
    "type(edades_pueblito)"
   ]
  },
  {
   "cell_type": "markdown",
   "id": "4efac3a3-2b87-4459-b2f7-8a90a2784759",
   "metadata": {},
   "source": [
    "2.Importa la librería de numpy con su apodo, y luego convierte la lista edades_pueblito en un arreglo"
   ]
  },
  {
   "cell_type": "code",
   "execution_count": 6,
   "id": "d3eeb4e2-77ea-456e-b38d-cea9276e536d",
   "metadata": {},
   "outputs": [],
   "source": [
    "import numpy as np"
   ]
  },
  {
   "cell_type": "code",
   "execution_count": 7,
   "id": "357b5d60-f173-4e21-9a5d-f01e90d28a77",
   "metadata": {},
   "outputs": [
    {
     "data": {
      "text/plain": [
       "array([ 23,  80,  99,  66,  87,  31,  61,  21,  54,  76,  78,  17,  14,\n",
       "        26, 100,  34,   1,  70,   5,  31,  51,  47,  81,  69,  45,  40,\n",
       "         8,  44,  60,  77,  93,  22,  91,   4,  37,  87,  34,  98,  29,\n",
       "         7,  63,  11,  91,  86,  20,  33,  90,  72,  61])"
      ]
     },
     "execution_count": 7,
     "metadata": {},
     "output_type": "execute_result"
    }
   ],
   "source": [
    "np.array(edades_pueblito)"
   ]
  },
  {
   "cell_type": "markdown",
   "id": "2d6beb74-d7f7-4f14-ab37-ff41bd5a1288",
   "metadata": {},
   "source": [
    "3. Calcula la media, la varianza, y la desviación estándar de la edad de los habitantes de San Andres, muestra un texto (print) con los cálculos realizados"
   ]
  },
  {
   "cell_type": "code",
   "execution_count": 12,
   "id": "c3b70ea5-2675-4f93-bad9-f8ed78ecc3e5",
   "metadata": {},
   "outputs": [
    {
     "name": "stdout",
     "output_type": "stream",
     "text": [
      "51.53061224489796 902.2082465639315 30.03678156134461\n"
     ]
    }
   ],
   "source": [
    "mean=np.mean(edades_pueblito)\n",
    "var=np.var(edades_pueblito)\n",
    "des=np.std(edades_pueblito)\n",
    "print(mean,var,des)"
   ]
  },
  {
   "cell_type": "markdown",
   "id": "f5c669e3-83b8-4e8c-8799-6a181438969a",
   "metadata": {},
   "source": [
    "4. Sin utilizar la formula de la media de numpy, es decir, sin utilizar np.mean(), como podriamos calcular la media utlizando solo las funciones que hemos visto en clase."
   ]
  },
  {
   "cell_type": "markdown",
   "id": "9dc718da-0af1-41a5-bdfa-dfbbaeee4645",
   "metadata": {},
   "source": [
    "5. Selecciona una muestra de las edades de las primeras 20 personas del pueblo de San Andres, guardalo en un objeto llamado muestra_pueblito"
   ]
  },
  {
   "cell_type": "code",
   "execution_count": 21,
   "id": "07f78237-e23e-42a8-8f62-262d0ad7f37d",
   "metadata": {},
   "outputs": [],
   "source": [
    "muestra_pueblito=edades_pueblito[0:20]"
   ]
  },
  {
   "cell_type": "code",
   "execution_count": 22,
   "id": "e35025e5-029d-4072-9682-893f4b3c02c7",
   "metadata": {},
   "outputs": [
    {
     "data": {
      "text/plain": [
       "[23, 80, 99, 66, 87, 31, 61, 21, 54, 76, 78, 17, 14, 26, 100, 34, 1, 70, 5, 31]"
      ]
     },
     "execution_count": 22,
     "metadata": {},
     "output_type": "execute_result"
    }
   ],
   "source": [
    "muestra_pueblito"
   ]
  },
  {
   "cell_type": "markdown",
   "id": "5cd91e87-908a-4935-97cf-86d05b6a0b38",
   "metadata": {},
   "source": [
    "Calcula la media, la varianza y la desviación estándar de la muestra de las edades del pueblo de San Andres, muestra un texto (print) con los calculos realizados"
   ]
  },
  {
   "cell_type": "code",
   "execution_count": 23,
   "id": "ac55d568-34eb-4d52-a765-617066d09396",
   "metadata": {},
   "outputs": [
    {
     "name": "stdout",
     "output_type": "stream",
     "text": [
      "48.7 966.2099999999998 31.08391867187919\n"
     ]
    }
   ],
   "source": [
    "meanm=np.mean(muestra_pueblito)\n",
    "varm=np.var(muestra_pueblito)\n",
    "desm=np.std(muestra_pueblito)\n",
    "print(meanm,varm,desm)"
   ]
  },
  {
   "cell_type": "markdown",
   "id": "ed27d9a1-fdf9-4be6-a0a0-b14269bf7b7b",
   "metadata": {},
   "source": [
    "7. Sabemos que en San Andres se dedican a la producción de huevo de gallina. Existen 20 productores de huevo en San Andres, donde en promedio cada uno produce 5.6785 kg de huevo por día. ¿cuál es la producción de huevo en kg por mes en San Andres?\n",
    "Resuelve utilizando np.prod()"
   ]
  },
  {
   "cell_type": "markdown",
   "id": "06c7ff98-a253-4620-b338-94b9cc3d8905",
   "metadata": {},
   "source": [
    "8.Resuelve el ejercicio 7 sin usar np.prod(). Resuelva utilizando tres objetos: \"productores\" que contenga el número de productores, \"huevos_promedio_x_dia\" que contenga la producción promedio de kg de huevo al día por productor y \"días del mes\" que contega el número de días en un mes"
   ]
  }
 ],
 "metadata": {
  "kernelspec": {
   "display_name": "Python 3 (ipykernel)",
   "language": "python",
   "name": "python3"
  },
  "language_info": {
   "codemirror_mode": {
    "name": "ipython",
    "version": 3
   },
   "file_extension": ".py",
   "mimetype": "text/x-python",
   "name": "python",
   "nbconvert_exporter": "python",
   "pygments_lexer": "ipython3",
   "version": "3.9.13"
  }
 },
 "nbformat": 4,
 "nbformat_minor": 5
}
