{
 "cells": [
  {
   "cell_type": "markdown",
   "id": "95cc0642-6d1b-4550-91f4-d22a5adef38f",
   "metadata": {},
   "source": [
    "# Variables de tipo fecha/tiempo en python\n",
    "## Andrea Carolina López Ruiz ##\n",
    "**30 marzo - Sesión 15**"
   ]
  },
  {
   "cell_type": "markdown",
   "id": "7977451a-edfe-4c88-85c3-9bc2c98613b2",
   "metadata": {},
   "source": [
    "### fechas en datetime"
   ]
  },
  {
   "cell_type": "code",
   "execution_count": 36,
   "id": "8de579e4-7926-46a5-b778-2ab758e43725",
   "metadata": {},
   "outputs": [],
   "source": [
    "# Importamos datetime\n",
    "from datetime import datetime"
   ]
  },
  {
   "cell_type": "code",
   "execution_count": 37,
   "id": "dc3d31bb-db67-423f-ad75-193da13506bb",
   "metadata": {},
   "outputs": [],
   "source": [
    "#fecha hoy\n",
    "mi_year = 2023\n",
    "mi_mes = 3\n",
    "mi_dia = 30\n",
    "mi_hora = 15\n",
    "mi_minuto = 25\n",
    "mi_segundo = 30"
   ]
  },
  {
   "cell_type": "code",
   "execution_count": 38,
   "id": "6c7fcfcc-2eb8-4e16-ad3b-ab8233736dff",
   "metadata": {},
   "outputs": [],
   "source": [
    "# formato fecha año mes dia\n",
    "mi_fecha=datetime(mi_year,mi_mes,mi_dia)"
   ]
  },
  {
   "cell_type": "code",
   "execution_count": 39,
   "id": "5bf18375-ce8f-42d6-aefe-ca3a60a84b36",
   "metadata": {},
   "outputs": [
    {
     "data": {
      "text/plain": [
       "datetime.datetime(2023, 3, 30, 0, 0)"
      ]
     },
     "execution_count": 39,
     "metadata": {},
     "output_type": "execute_result"
    }
   ],
   "source": [
    "mi_fecha"
   ]
  },
  {
   "cell_type": "code",
   "execution_count": 40,
   "id": "45766f57-3e76-4d29-96b1-c8e2022bf070",
   "metadata": {},
   "outputs": [],
   "source": [
    "mi_fecha_hora = datetime(mi_year,mi_mes,mi_dia,mi_hora,mi_minuto,mi_segundo)"
   ]
  },
  {
   "cell_type": "code",
   "execution_count": 41,
   "id": "d2b35a57-b78c-424c-af93-4d0ef6d9afb0",
   "metadata": {},
   "outputs": [
    {
     "data": {
      "text/plain": [
       "datetime.datetime(2023, 3, 30, 15, 25, 30)"
      ]
     },
     "execution_count": 41,
     "metadata": {},
     "output_type": "execute_result"
    }
   ],
   "source": [
    "mi_fecha_hora"
   ]
  },
  {
   "cell_type": "markdown",
   "id": "c40cf258-d11c-4f3f-8df8-434853e2d97f",
   "metadata": {},
   "source": [
    "Una vez que una variable de tipo fecha podemos acceder a sus componentes"
   ]
  },
  {
   "cell_type": "code",
   "execution_count": 42,
   "id": "53ab6275-5ca5-41ed-afcf-2208577a86b5",
   "metadata": {},
   "outputs": [
    {
     "data": {
      "text/plain": [
       "3"
      ]
     },
     "execution_count": 42,
     "metadata": {},
     "output_type": "execute_result"
    }
   ],
   "source": [
    "## accedemos al año de mi_fecha_hora\n",
    "mi_fecha_hora.month"
   ]
  },
  {
   "cell_type": "code",
   "execution_count": 43,
   "id": "947e7ad3-9dd5-4577-859a-18863c923e8a",
   "metadata": {},
   "outputs": [
    {
     "data": {
      "text/plain": [
       "25"
      ]
     },
     "execution_count": 43,
     "metadata": {},
     "output_type": "execute_result"
    }
   ],
   "source": [
    "# accedemos al minuto de mi_fecha_hora\n",
    "mi_fecha_hora.minute"
   ]
  },
  {
   "cell_type": "markdown",
   "id": "f4c11824-e1ca-4317-9928-3b473aaeae43",
   "metadata": {},
   "source": [
    "### fechas en numpy"
   ]
  },
  {
   "cell_type": "code",
   "execution_count": 44,
   "id": "c9a81800-e5da-4441-8a3d-2f188668559d",
   "metadata": {},
   "outputs": [],
   "source": [
    "import numpy as np"
   ]
  },
  {
   "cell_type": "code",
   "execution_count": 45,
   "id": "674a65e5-5476-4883-b4e3-43113d55a55f",
   "metadata": {},
   "outputs": [
    {
     "data": {
      "text/plain": [
       "array(['2002-01-15', '2001-06-06'], dtype='datetime64[D]')"
      ]
     },
     "execution_count": 45,
     "metadata": {},
     "output_type": "execute_result"
    }
   ],
   "source": [
    "np.array (['2002-01-15','2001-06-06'],dtype='datetime64')"
   ]
  },
  {
   "cell_type": "code",
   "execution_count": 46,
   "id": "c2fca743-72e6-4b5c-ad93-d5a32f890dc4",
   "metadata": {},
   "outputs": [
    {
     "data": {
      "text/plain": [
       "array(['2002-01-15T00', '2001-06-06T00'], dtype='datetime64[h]')"
      ]
     },
     "execution_count": 46,
     "metadata": {},
     "output_type": "execute_result"
    }
   ],
   "source": [
    "# reconoce la hora con el h en el datetime64[h]\n",
    "np.array (['2002-01-15','2001-06-06'],dtype='datetime64[h]')"
   ]
  },
  {
   "cell_type": "code",
   "execution_count": 47,
   "id": "4d179f6a-567b-480b-9fd5-62b8b2591a52",
   "metadata": {},
   "outputs": [
    {
     "data": {
      "text/plain": [
       "array(['2002', '2001'], dtype='datetime64[Y]')"
      ]
     },
     "execution_count": 47,
     "metadata": {},
     "output_type": "execute_result"
    }
   ],
   "source": [
    "# reconoce el año \n",
    "np.array (['2002-01-15','2001-06-06'],dtype='datetime64[Y]')"
   ]
  },
  {
   "cell_type": "code",
   "execution_count": 48,
   "id": "e69f12d9-8526-4114-8dc2-26005cf8f25e",
   "metadata": {},
   "outputs": [
    {
     "data": {
      "text/plain": [
       "array(['2002-01', '2001-06'], dtype='datetime64[M]')"
      ]
     },
     "execution_count": 48,
     "metadata": {},
     "output_type": "execute_result"
    }
   ],
   "source": [
    "#reconoce por mes\n",
    "np.array (['2002-01-15','2001-06-06'],dtype='datetime64[M]')"
   ]
  },
  {
   "cell_type": "code",
   "execution_count": 49,
   "id": "3188ca5d-1f62-4284-9fa9-bb82e3e3948c",
   "metadata": {},
   "outputs": [
    {
     "data": {
      "text/plain": [
       "array(['2001', '2002', '2003', '2004', '2005', '2006', '2007', '2008',\n",
       "       '2009', '2010', '2011', '2012', '2013', '2014', '2015', '2016',\n",
       "       '2017', '2018', '2019', '2020', '2021', '2022'],\n",
       "      dtype='datetime64[Y]')"
      ]
     },
     "execution_count": 49,
     "metadata": {},
     "output_type": "execute_result"
    }
   ],
   "source": [
    "#vamos a contar los años hasta el dia de hoy\n",
    "np.arange('2001-06-06','2023-03-30',1,dtype='datetime64[Y]')"
   ]
  },
  {
   "cell_type": "code",
   "execution_count": 50,
   "id": "0400699f-3d2d-4e48-94a1-c9717dd17f9e",
   "metadata": {},
   "outputs": [
    {
     "data": {
      "text/plain": [
       "array(['2023-01-23', '2023-01-30', '2023-02-06', '2023-02-13',\n",
       "       '2023-02-20', '2023-02-27', '2023-03-06', '2023-03-13',\n",
       "       '2023-03-20', '2023-03-27'], dtype='datetime64[D]')"
      ]
     },
     "execution_count": 50,
     "metadata": {},
     "output_type": "execute_result"
    }
   ],
   "source": [
    "np.arange('2023-01-23','2023-03-30',7,dtype='datetime64[D]')"
   ]
  },
  {
   "cell_type": "markdown",
   "id": "ceef0636-fcf4-4b5e-a2e9-79c71b3e6b4a",
   "metadata": {},
   "source": [
    "### fechas en pandas"
   ]
  },
  {
   "cell_type": "code",
   "execution_count": 51,
   "id": "0df59ba3-e3bc-4084-9b3a-b34796ad21e0",
   "metadata": {},
   "outputs": [],
   "source": [
    "import pandas as pd"
   ]
  },
  {
   "cell_type": "code",
   "execution_count": 52,
   "id": "b4a2496d-265a-4b72-8cdd-56ec68fb8b61",
   "metadata": {},
   "outputs": [],
   "source": [
    "# la semana del 8 de julio de 2018\n",
    "semana8 = pd.date_range('7/8/18',periods=7,freq='D')"
   ]
  },
  {
   "cell_type": "code",
   "execution_count": 53,
   "id": "9f2bde86-b4c1-4ac9-883e-8cc68af171f5",
   "metadata": {},
   "outputs": [
    {
     "data": {
      "text/plain": [
       "DatetimeIndex(['2018-07-08', '2018-07-09', '2018-07-10', '2018-07-11',\n",
       "               '2018-07-12', '2018-07-13', '2018-07-14'],\n",
       "              dtype='datetime64[ns]', freq='D')"
      ]
     },
     "execution_count": 53,
     "metadata": {},
     "output_type": "execute_result"
    }
   ],
   "source": [
    "semana8"
   ]
  },
  {
   "cell_type": "code",
   "execution_count": 54,
   "id": "e8aa6107-31c3-4378-b997-f5d6e5e452e2",
   "metadata": {},
   "outputs": [
    {
     "data": {
      "text/plain": [
       "DatetimeIndex(['2001-06-06', '2002-01-15', '2023-01-01'], dtype='datetime64[ns]', freq=None)"
      ]
     },
     "execution_count": 54,
     "metadata": {},
     "output_type": "execute_result"
    }
   ],
   "source": [
    "# de que forma le podemos pasar fechas a pandas\n",
    "pd.to_datetime(['Jun 6,2001','01/15/2002','01-Jan-2023'])"
   ]
  },
  {
   "cell_type": "code",
   "execution_count": 55,
   "id": "b43f9b04-6519-4d6e-b25d-b13fdbae26b0",
   "metadata": {},
   "outputs": [],
   "source": [
    "algunas_fechas = np.array(['2001-06-06','2002-01-15'],dtype='datetime64')"
   ]
  },
  {
   "cell_type": "code",
   "execution_count": 56,
   "id": "46989dd3-5daf-4dcf-892a-c804312c9067",
   "metadata": {},
   "outputs": [
    {
     "data": {
      "text/plain": [
       "array(['2001-06-06', '2002-01-15'], dtype='datetime64[D]')"
      ]
     },
     "execution_count": 56,
     "metadata": {},
     "output_type": "execute_result"
    }
   ],
   "source": [
    "algunas_fechas"
   ]
  },
  {
   "cell_type": "code",
   "execution_count": 57,
   "id": "dd614953-0e83-4149-9006-a48d29c24b84",
   "metadata": {},
   "outputs": [],
   "source": [
    "#las podemos usar en pandas\n",
    "algunas_fechas=pd.to_datetime(algunas_fechas)"
   ]
  },
  {
   "cell_type": "code",
   "execution_count": null,
   "id": "fad0e070-695b-4ed2-9b6a-d0e3f479f333",
   "metadata": {},
   "outputs": [],
   "source": [
    "#df.index.freq = 'D'\n",
    "## CHECAR ESTA CELDA\n",
    "algunas_fechas.pd.asfreq('D')"
   ]
  }
 ],
 "metadata": {
  "kernelspec": {
   "display_name": "Python 3 (ipykernel)",
   "language": "python",
   "name": "python3"
  },
  "language_info": {
   "codemirror_mode": {
    "name": "ipython",
    "version": 3
   },
   "file_extension": ".py",
   "mimetype": "text/x-python",
   "name": "python",
   "nbconvert_exporter": "python",
   "pygments_lexer": "ipython3",
   "version": "3.9.13"
  }
 },
 "nbformat": 4,
 "nbformat_minor": 5
}
