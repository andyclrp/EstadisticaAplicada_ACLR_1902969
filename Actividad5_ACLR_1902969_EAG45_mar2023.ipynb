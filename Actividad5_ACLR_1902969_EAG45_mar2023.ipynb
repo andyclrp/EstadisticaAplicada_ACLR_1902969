{
 "cells": [
  {
   "cell_type": "markdown",
   "id": "c87e130b-a61f-4c8a-81ba-4903ca1eadb4",
   "metadata": {},
   "source": [
    "# **Estadística Aplicada** #\n",
    "## Andrea Carolina López Ruiz ##\n",
    "**1902969 - Gpo:45**"
   ]
  },
  {
   "cell_type": "code",
   "execution_count": 2,
   "id": "fbd27910-85df-4bbc-8e8a-17153b3b33c3",
   "metadata": {},
   "outputs": [],
   "source": [
    "# Importamos librerias \n",
    "import numpy as np\n",
    "import pandas as pd\n",
    "import matplotlib.pyplot as plt\n",
    "%matplotlib inline"
   ]
  },
  {
   "cell_type": "code",
   "execution_count": 3,
   "id": "ecda9ea9-0206-4470-84e0-c1b0e8a78cd6",
   "metadata": {},
   "outputs": [],
   "source": [
    "# Librerias de supervivencia\n",
    "from lifelines import KaplanMeierFitter\n",
    "from lifelines.statistics import logrank_test\n",
    "from lifelines import CoxPHFitter\n",
    "from lifelines import ExponentialFitter\n",
    "from lifelines import WeibullFitter"
   ]
  },
  {
   "cell_type": "code",
   "execution_count": 4,
   "id": "bdff60c0-c632-4d0b-a42c-7cd126367c28",
   "metadata": {},
   "outputs": [],
   "source": [
    "#importamos el archivo de base de datos\n",
    "#solo insertamos el nombre del archivo, pero puede ser el path\n",
    "datos = pd.read_excel('supervivencia_examenes.xlsx')"
   ]
  },
  {
   "cell_type": "code",
   "execution_count": 5,
   "id": "9f9fe10a-11ff-4d4f-aade-66ac2690a57d",
   "metadata": {},
   "outputs": [
    {
     "data": {
      "text/html": [
       "<div>\n",
       "<style scoped>\n",
       "    .dataframe tbody tr th:only-of-type {\n",
       "        vertical-align: middle;\n",
       "    }\n",
       "\n",
       "    .dataframe tbody tr th {\n",
       "        vertical-align: top;\n",
       "    }\n",
       "\n",
       "    .dataframe thead th {\n",
       "        text-align: right;\n",
       "    }\n",
       "</style>\n",
       "<table border=\"1\" class=\"dataframe\">\n",
       "  <thead>\n",
       "    <tr style=\"text-align: right;\">\n",
       "      <th></th>\n",
       "      <th>id</th>\n",
       "      <th>tiempo</th>\n",
       "      <th>examen</th>\n",
       "      <th>calificación</th>\n",
       "      <th>género</th>\n",
       "    </tr>\n",
       "  </thead>\n",
       "  <tbody>\n",
       "    <tr>\n",
       "      <th>0</th>\n",
       "      <td>1</td>\n",
       "      <td>85</td>\n",
       "      <td>1</td>\n",
       "      <td>100.0</td>\n",
       "      <td>m</td>\n",
       "    </tr>\n",
       "    <tr>\n",
       "      <th>1</th>\n",
       "      <td>2</td>\n",
       "      <td>109</td>\n",
       "      <td>1</td>\n",
       "      <td>100.0</td>\n",
       "      <td>m</td>\n",
       "    </tr>\n",
       "    <tr>\n",
       "      <th>2</th>\n",
       "      <td>3</td>\n",
       "      <td>118</td>\n",
       "      <td>1</td>\n",
       "      <td>100.0</td>\n",
       "      <td>m</td>\n",
       "    </tr>\n",
       "    <tr>\n",
       "      <th>3</th>\n",
       "      <td>4</td>\n",
       "      <td>120</td>\n",
       "      <td>1</td>\n",
       "      <td>100.0</td>\n",
       "      <td>f</td>\n",
       "    </tr>\n",
       "    <tr>\n",
       "      <th>4</th>\n",
       "      <td>5</td>\n",
       "      <td>106</td>\n",
       "      <td>1</td>\n",
       "      <td>98.0</td>\n",
       "      <td>f</td>\n",
       "    </tr>\n",
       "    <tr>\n",
       "      <th>5</th>\n",
       "      <td>6</td>\n",
       "      <td>103</td>\n",
       "      <td>1</td>\n",
       "      <td>98.0</td>\n",
       "      <td>m</td>\n",
       "    </tr>\n",
       "    <tr>\n",
       "      <th>6</th>\n",
       "      <td>7</td>\n",
       "      <td>108</td>\n",
       "      <td>1</td>\n",
       "      <td>96.0</td>\n",
       "      <td>f</td>\n",
       "    </tr>\n",
       "    <tr>\n",
       "      <th>7</th>\n",
       "      <td>8</td>\n",
       "      <td>119</td>\n",
       "      <td>1</td>\n",
       "      <td>96.0</td>\n",
       "      <td>f</td>\n",
       "    </tr>\n",
       "    <tr>\n",
       "      <th>8</th>\n",
       "      <td>9</td>\n",
       "      <td>115</td>\n",
       "      <td>1</td>\n",
       "      <td>96.0</td>\n",
       "      <td>f</td>\n",
       "    </tr>\n",
       "    <tr>\n",
       "      <th>9</th>\n",
       "      <td>10</td>\n",
       "      <td>108</td>\n",
       "      <td>1</td>\n",
       "      <td>94.0</td>\n",
       "      <td>f</td>\n",
       "    </tr>\n",
       "    <tr>\n",
       "      <th>10</th>\n",
       "      <td>11</td>\n",
       "      <td>87</td>\n",
       "      <td>1</td>\n",
       "      <td>88.0</td>\n",
       "      <td>m</td>\n",
       "    </tr>\n",
       "    <tr>\n",
       "      <th>11</th>\n",
       "      <td>12</td>\n",
       "      <td>99</td>\n",
       "      <td>1</td>\n",
       "      <td>86.0</td>\n",
       "      <td>f</td>\n",
       "    </tr>\n",
       "    <tr>\n",
       "      <th>12</th>\n",
       "      <td>13</td>\n",
       "      <td>112</td>\n",
       "      <td>1</td>\n",
       "      <td>84.0</td>\n",
       "      <td>m</td>\n",
       "    </tr>\n",
       "    <tr>\n",
       "      <th>13</th>\n",
       "      <td>14</td>\n",
       "      <td>111</td>\n",
       "      <td>1</td>\n",
       "      <td>82.0</td>\n",
       "      <td>m</td>\n",
       "    </tr>\n",
       "    <tr>\n",
       "      <th>14</th>\n",
       "      <td>15</td>\n",
       "      <td>90</td>\n",
       "      <td>1</td>\n",
       "      <td>78.0</td>\n",
       "      <td>f</td>\n",
       "    </tr>\n",
       "    <tr>\n",
       "      <th>15</th>\n",
       "      <td>16</td>\n",
       "      <td>116</td>\n",
       "      <td>1</td>\n",
       "      <td>74.0</td>\n",
       "      <td>m</td>\n",
       "    </tr>\n",
       "    <tr>\n",
       "      <th>16</th>\n",
       "      <td>17</td>\n",
       "      <td>119</td>\n",
       "      <td>1</td>\n",
       "      <td>72.0</td>\n",
       "      <td>m</td>\n",
       "    </tr>\n",
       "  </tbody>\n",
       "</table>\n",
       "</div>"
      ],
      "text/plain": [
       "    id  tiempo  examen  calificación género\n",
       "0    1      85       1         100.0      m\n",
       "1    2     109       1         100.0      m\n",
       "2    3     118       1         100.0      m\n",
       "3    4     120       1         100.0      f\n",
       "4    5     106       1          98.0      f\n",
       "5    6     103       1          98.0      m\n",
       "6    7     108       1          96.0      f\n",
       "7    8     119       1          96.0      f\n",
       "8    9     115       1          96.0      f\n",
       "9   10     108       1          94.0      f\n",
       "10  11      87       1          88.0      m\n",
       "11  12      99       1          86.0      f\n",
       "12  13     112       1          84.0      m\n",
       "13  14     111       1          82.0      m\n",
       "14  15      90       1          78.0      f\n",
       "15  16     116       1          74.0      m\n",
       "16  17     119       1          72.0      m"
      ]
     },
     "execution_count": 5,
     "metadata": {},
     "output_type": "execute_result"
    }
   ],
   "source": [
    "#imprimimos la base de datos que consta de 17 observaciones\n",
    "datos.head(17)"
   ]
  },
  {
   "cell_type": "markdown",
   "id": "056201c5-68cf-4149-bc83-f1747993e2bc",
   "metadata": {},
   "source": [
    "## Descripción de las variables ##\n",
    "**Observaciones:** 17 <br>\n",
    "**total de tiempo para presentar el examen:** 2 horas (120 min)<br>\n",
    "**id:** identificador de alumno<br>\n",
    "**tiempo:** tiempo medido en min que tardaron en responder<br>\n",
    "**examen:** 1 si entregó el examen, 0 sino lo entrego<br>\n",
    "**calificación:** calificación obtenida<br>\n",
    "**género:** m para masculino y f para femenino<br>\n",
    "\n",
    "#### Objetivo del análisis\n",
    "Queremos emplear un análisis de supervivencia ya que se tiene el tiempo en minutos desde que el profesor proporciona el exámen a los alumnos hasta que estos lo entregan, donde el evento a analizar es la propia entrega del exámen."
   ]
  },
  {
   "cell_type": "markdown",
   "id": "f4afa709-a496-4909-bd82-63954b58466a",
   "metadata": {},
   "source": [
    "# 1. Estadísticas Descriptivas"
   ]
  },
  {
   "cell_type": "markdown",
   "id": "0202b5cf-5742-4fbf-95f6-aa266da2b7e1",
   "metadata": {},
   "source": [
    "Estadísticas  descriptivas. Calcule  el  tiempo  promedio  que  tardaron  en responder los alumnosel examen y la calificación promedio obtenida. El  profesor  sospecha  que  las  alumnas  responden  más  rápido  el  examen, calcule  el  tiempo  promedio  que  tardaron  en  responder  las  alumnas  y  su calificación  promedio,  asi  como  el  tiempo  promedio  que  tardaron  en responder los alumnos y su calificación promedio.Elabore un print mostrando dichos resultados"
   ]
  },
  {
   "cell_type": "code",
   "execution_count": 6,
   "id": "8136966d-936c-4147-bc1a-3be3dd407d73",
   "metadata": {},
   "outputs": [
    {
     "data": {
      "text/html": [
       "<div>\n",
       "<style scoped>\n",
       "    .dataframe tbody tr th:only-of-type {\n",
       "        vertical-align: middle;\n",
       "    }\n",
       "\n",
       "    .dataframe tbody tr th {\n",
       "        vertical-align: top;\n",
       "    }\n",
       "\n",
       "    .dataframe thead th {\n",
       "        text-align: right;\n",
       "    }\n",
       "</style>\n",
       "<table border=\"1\" class=\"dataframe\">\n",
       "  <thead>\n",
       "    <tr style=\"text-align: right;\">\n",
       "      <th></th>\n",
       "      <th>id</th>\n",
       "      <th>tiempo</th>\n",
       "      <th>examen</th>\n",
       "      <th>calificación</th>\n",
       "    </tr>\n",
       "  </thead>\n",
       "  <tbody>\n",
       "    <tr>\n",
       "      <th>count</th>\n",
       "      <td>17.000000</td>\n",
       "      <td>17.000000</td>\n",
       "      <td>17.0</td>\n",
       "      <td>17.000000</td>\n",
       "    </tr>\n",
       "    <tr>\n",
       "      <th>mean</th>\n",
       "      <td>9.000000</td>\n",
       "      <td>107.352941</td>\n",
       "      <td>1.0</td>\n",
       "      <td>90.705882</td>\n",
       "    </tr>\n",
       "    <tr>\n",
       "      <th>std</th>\n",
       "      <td>5.049752</td>\n",
       "      <td>11.241337</td>\n",
       "      <td>0.0</td>\n",
       "      <td>9.642126</td>\n",
       "    </tr>\n",
       "    <tr>\n",
       "      <th>min</th>\n",
       "      <td>1.000000</td>\n",
       "      <td>85.000000</td>\n",
       "      <td>1.0</td>\n",
       "      <td>72.000000</td>\n",
       "    </tr>\n",
       "    <tr>\n",
       "      <th>25%</th>\n",
       "      <td>5.000000</td>\n",
       "      <td>103.000000</td>\n",
       "      <td>1.0</td>\n",
       "      <td>84.000000</td>\n",
       "    </tr>\n",
       "    <tr>\n",
       "      <th>50%</th>\n",
       "      <td>9.000000</td>\n",
       "      <td>109.000000</td>\n",
       "      <td>1.0</td>\n",
       "      <td>96.000000</td>\n",
       "    </tr>\n",
       "    <tr>\n",
       "      <th>75%</th>\n",
       "      <td>13.000000</td>\n",
       "      <td>116.000000</td>\n",
       "      <td>1.0</td>\n",
       "      <td>98.000000</td>\n",
       "    </tr>\n",
       "    <tr>\n",
       "      <th>max</th>\n",
       "      <td>17.000000</td>\n",
       "      <td>120.000000</td>\n",
       "      <td>1.0</td>\n",
       "      <td>100.000000</td>\n",
       "    </tr>\n",
       "  </tbody>\n",
       "</table>\n",
       "</div>"
      ],
      "text/plain": [
       "              id      tiempo  examen  calificación\n",
       "count  17.000000   17.000000    17.0     17.000000\n",
       "mean    9.000000  107.352941     1.0     90.705882\n",
       "std     5.049752   11.241337     0.0      9.642126\n",
       "min     1.000000   85.000000     1.0     72.000000\n",
       "25%     5.000000  103.000000     1.0     84.000000\n",
       "50%     9.000000  109.000000     1.0     96.000000\n",
       "75%    13.000000  116.000000     1.0     98.000000\n",
       "max    17.000000  120.000000     1.0    100.000000"
      ]
     },
     "execution_count": 6,
     "metadata": {},
     "output_type": "execute_result"
    }
   ],
   "source": [
    "#obtenemos Estadística Descriptiva del grupo entero\n",
    "datos.describe()"
   ]
  },
  {
   "cell_type": "markdown",
   "id": "4f4f9e32-59c5-486e-81d2-d1578b8b4374",
   "metadata": {},
   "source": [
    "### Promedios grupo entero "
   ]
  },
  {
   "cell_type": "code",
   "execution_count": 7,
   "id": "a07f036c-67b0-454e-beb5-cea529312a3f",
   "metadata": {
    "jupyter": {
     "source_hidden": true
    },
    "tags": []
   },
   "outputs": [
    {
     "name": "stdout",
     "output_type": "stream",
     "text": [
      "El promedio de tiempo que tardaron para responder el examen es: 107.3529411764706\n"
     ]
    }
   ],
   "source": [
    "#futuro error: tenemos que poner la selección de datos antes\n",
    "prom_tiempo = datos['tiempo'].mean()\n",
    "print(\"El promedio de tiempo que tardaron para responder el examen es:\",prom_tiempo)"
   ]
  },
  {
   "cell_type": "code",
   "execution_count": 8,
   "id": "8136d9c4-5f91-47a0-8f11-aa8fa6221235",
   "metadata": {
    "jupyter": {
     "source_hidden": true
    },
    "tags": []
   },
   "outputs": [
    {
     "name": "stdout",
     "output_type": "stream",
     "text": [
      "El promedio de la calificación obtenida es: 90.70588235294117\n"
     ]
    }
   ],
   "source": [
    "#futuro error: tenemos que poner la selección de datos antes\n",
    "prom_calif = datos['calificación'].mean()\n",
    "print(\"El promedio de la calificación obtenida es:\",prom_calif)"
   ]
  },
  {
   "cell_type": "code",
   "execution_count": 9,
   "id": "cd3f92a9-7fe1-4b4b-99ab-772ed0c082d0",
   "metadata": {},
   "outputs": [
    {
     "data": {
      "text/html": [
       "<div>\n",
       "<style scoped>\n",
       "    .dataframe tbody tr th:only-of-type {\n",
       "        vertical-align: middle;\n",
       "    }\n",
       "\n",
       "    .dataframe tbody tr th {\n",
       "        vertical-align: top;\n",
       "    }\n",
       "\n",
       "    .dataframe thead th {\n",
       "        text-align: right;\n",
       "    }\n",
       "</style>\n",
       "<table border=\"1\" class=\"dataframe\">\n",
       "  <thead>\n",
       "    <tr style=\"text-align: right;\">\n",
       "      <th></th>\n",
       "      <th>id</th>\n",
       "      <th>tiempo</th>\n",
       "      <th>examen</th>\n",
       "      <th>calificación</th>\n",
       "    </tr>\n",
       "  </thead>\n",
       "  <tbody>\n",
       "    <tr>\n",
       "      <th>count</th>\n",
       "      <td>17.000000</td>\n",
       "      <td>17.000000</td>\n",
       "      <td>17.0</td>\n",
       "      <td>17.000000</td>\n",
       "    </tr>\n",
       "    <tr>\n",
       "      <th>mean</th>\n",
       "      <td>9.000000</td>\n",
       "      <td>107.352941</td>\n",
       "      <td>1.0</td>\n",
       "      <td>90.705882</td>\n",
       "    </tr>\n",
       "    <tr>\n",
       "      <th>std</th>\n",
       "      <td>5.049752</td>\n",
       "      <td>11.241337</td>\n",
       "      <td>0.0</td>\n",
       "      <td>9.642126</td>\n",
       "    </tr>\n",
       "    <tr>\n",
       "      <th>min</th>\n",
       "      <td>1.000000</td>\n",
       "      <td>85.000000</td>\n",
       "      <td>1.0</td>\n",
       "      <td>72.000000</td>\n",
       "    </tr>\n",
       "    <tr>\n",
       "      <th>25%</th>\n",
       "      <td>5.000000</td>\n",
       "      <td>103.000000</td>\n",
       "      <td>1.0</td>\n",
       "      <td>84.000000</td>\n",
       "    </tr>\n",
       "    <tr>\n",
       "      <th>50%</th>\n",
       "      <td>9.000000</td>\n",
       "      <td>109.000000</td>\n",
       "      <td>1.0</td>\n",
       "      <td>96.000000</td>\n",
       "    </tr>\n",
       "    <tr>\n",
       "      <th>75%</th>\n",
       "      <td>13.000000</td>\n",
       "      <td>116.000000</td>\n",
       "      <td>1.0</td>\n",
       "      <td>98.000000</td>\n",
       "    </tr>\n",
       "    <tr>\n",
       "      <th>max</th>\n",
       "      <td>17.000000</td>\n",
       "      <td>120.000000</td>\n",
       "      <td>1.0</td>\n",
       "      <td>100.000000</td>\n",
       "    </tr>\n",
       "  </tbody>\n",
       "</table>\n",
       "</div>"
      ],
      "text/plain": [
       "              id      tiempo  examen  calificación\n",
       "count  17.000000   17.000000    17.0     17.000000\n",
       "mean    9.000000  107.352941     1.0     90.705882\n",
       "std     5.049752   11.241337     0.0      9.642126\n",
       "min     1.000000   85.000000     1.0     72.000000\n",
       "25%     5.000000  103.000000     1.0     84.000000\n",
       "50%     9.000000  109.000000     1.0     96.000000\n",
       "75%    13.000000  116.000000     1.0     98.000000\n",
       "max    17.000000  120.000000     1.0    100.000000"
      ]
     },
     "execution_count": 9,
     "metadata": {},
     "output_type": "execute_result"
    }
   ],
   "source": [
    "datos.describe()"
   ]
  },
  {
   "cell_type": "markdown",
   "id": "1f62dc8e-3dcb-4d55-b0ac-c3ae6555335d",
   "metadata": {},
   "source": [
    "El **tiempo promedio** para responder el examen es: 107.35 <br>\n",
    "La **calificación promedio** obtenida del grupo es: 90.70"
   ]
  },
  {
   "cell_type": "markdown",
   "id": "b55ac17a-5c99-44ab-bff0-f22a433de8d4",
   "metadata": {},
   "source": [
    "### Promedios por género"
   ]
  },
  {
   "cell_type": "code",
   "execution_count": 10,
   "id": "a3cab776-905b-4f95-9648-d51a5dedfa10",
   "metadata": {
    "jupyter": {
     "source_hidden": true
    },
    "tags": []
   },
   "outputs": [
    {
     "data": {
      "text/html": [
       "<div>\n",
       "<style scoped>\n",
       "    .dataframe tbody tr th:only-of-type {\n",
       "        vertical-align: middle;\n",
       "    }\n",
       "\n",
       "    .dataframe tbody tr th {\n",
       "        vertical-align: top;\n",
       "    }\n",
       "\n",
       "    .dataframe thead th {\n",
       "        text-align: right;\n",
       "    }\n",
       "</style>\n",
       "<table border=\"1\" class=\"dataframe\">\n",
       "  <thead>\n",
       "    <tr style=\"text-align: right;\">\n",
       "      <th></th>\n",
       "      <th>id</th>\n",
       "      <th>tiempo</th>\n",
       "      <th>examen</th>\n",
       "      <th>calificación</th>\n",
       "    </tr>\n",
       "    <tr>\n",
       "      <th>género</th>\n",
       "      <th></th>\n",
       "      <th></th>\n",
       "      <th></th>\n",
       "      <th></th>\n",
       "    </tr>\n",
       "  </thead>\n",
       "  <tbody>\n",
       "    <tr>\n",
       "      <th>f</th>\n",
       "      <td>8.750000</td>\n",
       "      <td>108.125000</td>\n",
       "      <td>1.0</td>\n",
       "      <td>93.000000</td>\n",
       "    </tr>\n",
       "    <tr>\n",
       "      <th>m</th>\n",
       "      <td>9.222222</td>\n",
       "      <td>106.666667</td>\n",
       "      <td>1.0</td>\n",
       "      <td>88.666667</td>\n",
       "    </tr>\n",
       "  </tbody>\n",
       "</table>\n",
       "</div>"
      ],
      "text/plain": [
       "              id      tiempo  examen  calificación\n",
       "género                                            \n",
       "f       8.750000  108.125000     1.0     93.000000\n",
       "m       9.222222  106.666667     1.0     88.666667"
      ]
     },
     "execution_count": 10,
     "metadata": {},
     "output_type": "execute_result"
    }
   ],
   "source": [
    "#agrupamos por género y obtenemos el promedio de tiempo y calificación\n",
    "datos.groupby('género').mean()"
   ]
  },
  {
   "cell_type": "markdown",
   "id": "22051bd0-3126-4e7c-be7f-bb277138cb91",
   "metadata": {},
   "source": [
    "#### Alumnas"
   ]
  },
  {
   "cell_type": "code",
   "execution_count": 11,
   "id": "d33e7f8d-c3f6-4a64-8184-5a5ea6635950",
   "metadata": {},
   "outputs": [
    {
     "data": {
      "text/html": [
       "<div>\n",
       "<style scoped>\n",
       "    .dataframe tbody tr th:only-of-type {\n",
       "        vertical-align: middle;\n",
       "    }\n",
       "\n",
       "    .dataframe tbody tr th {\n",
       "        vertical-align: top;\n",
       "    }\n",
       "\n",
       "    .dataframe thead th {\n",
       "        text-align: right;\n",
       "    }\n",
       "</style>\n",
       "<table border=\"1\" class=\"dataframe\">\n",
       "  <thead>\n",
       "    <tr style=\"text-align: right;\">\n",
       "      <th></th>\n",
       "      <th>id</th>\n",
       "      <th>tiempo</th>\n",
       "      <th>examen</th>\n",
       "      <th>calificación</th>\n",
       "    </tr>\n",
       "  </thead>\n",
       "  <tbody>\n",
       "    <tr>\n",
       "      <th>count</th>\n",
       "      <td>8.000000</td>\n",
       "      <td>8.000000</td>\n",
       "      <td>8.0</td>\n",
       "      <td>8.000000</td>\n",
       "    </tr>\n",
       "    <tr>\n",
       "      <th>mean</th>\n",
       "      <td>8.750000</td>\n",
       "      <td>108.125000</td>\n",
       "      <td>1.0</td>\n",
       "      <td>93.000000</td>\n",
       "    </tr>\n",
       "    <tr>\n",
       "      <th>std</th>\n",
       "      <td>3.615443</td>\n",
       "      <td>10.162079</td>\n",
       "      <td>0.0</td>\n",
       "      <td>7.329003</td>\n",
       "    </tr>\n",
       "    <tr>\n",
       "      <th>min</th>\n",
       "      <td>4.000000</td>\n",
       "      <td>90.000000</td>\n",
       "      <td>1.0</td>\n",
       "      <td>78.000000</td>\n",
       "    </tr>\n",
       "    <tr>\n",
       "      <th>25%</th>\n",
       "      <td>6.500000</td>\n",
       "      <td>104.250000</td>\n",
       "      <td>1.0</td>\n",
       "      <td>92.000000</td>\n",
       "    </tr>\n",
       "    <tr>\n",
       "      <th>50%</th>\n",
       "      <td>8.500000</td>\n",
       "      <td>108.000000</td>\n",
       "      <td>1.0</td>\n",
       "      <td>96.000000</td>\n",
       "    </tr>\n",
       "    <tr>\n",
       "      <th>75%</th>\n",
       "      <td>10.500000</td>\n",
       "      <td>116.000000</td>\n",
       "      <td>1.0</td>\n",
       "      <td>96.500000</td>\n",
       "    </tr>\n",
       "    <tr>\n",
       "      <th>max</th>\n",
       "      <td>15.000000</td>\n",
       "      <td>120.000000</td>\n",
       "      <td>1.0</td>\n",
       "      <td>100.000000</td>\n",
       "    </tr>\n",
       "  </tbody>\n",
       "</table>\n",
       "</div>"
      ],
      "text/plain": [
       "              id      tiempo  examen  calificación\n",
       "count   8.000000    8.000000     8.0      8.000000\n",
       "mean    8.750000  108.125000     1.0     93.000000\n",
       "std     3.615443   10.162079     0.0      7.329003\n",
       "min     4.000000   90.000000     1.0     78.000000\n",
       "25%     6.500000  104.250000     1.0     92.000000\n",
       "50%     8.500000  108.000000     1.0     96.000000\n",
       "75%    10.500000  116.000000     1.0     96.500000\n",
       "max    15.000000  120.000000     1.0    100.000000"
      ]
     },
     "execution_count": 11,
     "metadata": {},
     "output_type": "execute_result"
    }
   ],
   "source": [
    "femenino = datos.query('género == \"f\"')\n",
    "femenino.describe()"
   ]
  },
  {
   "cell_type": "markdown",
   "id": "0956c360-e3c1-493e-900d-301307f86f1f",
   "metadata": {},
   "source": [
    "El **tiempo promedio** para responder el examen es: 108.12 <br>\n",
    "La **calificación promedio** obtenida del grupo es: 93.00"
   ]
  },
  {
   "cell_type": "markdown",
   "id": "0ac2f28e-3fa2-4c94-bb71-8f855ca8c4ca",
   "metadata": {},
   "source": [
    "#### Alumnos"
   ]
  },
  {
   "cell_type": "code",
   "execution_count": 12,
   "id": "6f99cf74-0d20-41e8-aa43-628a7bcdbb75",
   "metadata": {},
   "outputs": [
    {
     "data": {
      "text/html": [
       "<div>\n",
       "<style scoped>\n",
       "    .dataframe tbody tr th:only-of-type {\n",
       "        vertical-align: middle;\n",
       "    }\n",
       "\n",
       "    .dataframe tbody tr th {\n",
       "        vertical-align: top;\n",
       "    }\n",
       "\n",
       "    .dataframe thead th {\n",
       "        text-align: right;\n",
       "    }\n",
       "</style>\n",
       "<table border=\"1\" class=\"dataframe\">\n",
       "  <thead>\n",
       "    <tr style=\"text-align: right;\">\n",
       "      <th></th>\n",
       "      <th>id</th>\n",
       "      <th>tiempo</th>\n",
       "      <th>examen</th>\n",
       "      <th>calificación</th>\n",
       "    </tr>\n",
       "  </thead>\n",
       "  <tbody>\n",
       "    <tr>\n",
       "      <th>count</th>\n",
       "      <td>9.000000</td>\n",
       "      <td>9.000000</td>\n",
       "      <td>9.0</td>\n",
       "      <td>9.000000</td>\n",
       "    </tr>\n",
       "    <tr>\n",
       "      <th>mean</th>\n",
       "      <td>9.222222</td>\n",
       "      <td>106.666667</td>\n",
       "      <td>1.0</td>\n",
       "      <td>88.666667</td>\n",
       "    </tr>\n",
       "    <tr>\n",
       "      <th>std</th>\n",
       "      <td>6.280481</td>\n",
       "      <td>12.698425</td>\n",
       "      <td>0.0</td>\n",
       "      <td>11.357817</td>\n",
       "    </tr>\n",
       "    <tr>\n",
       "      <th>min</th>\n",
       "      <td>1.000000</td>\n",
       "      <td>85.000000</td>\n",
       "      <td>1.0</td>\n",
       "      <td>72.000000</td>\n",
       "    </tr>\n",
       "    <tr>\n",
       "      <th>25%</th>\n",
       "      <td>3.000000</td>\n",
       "      <td>103.000000</td>\n",
       "      <td>1.0</td>\n",
       "      <td>82.000000</td>\n",
       "    </tr>\n",
       "    <tr>\n",
       "      <th>50%</th>\n",
       "      <td>11.000000</td>\n",
       "      <td>111.000000</td>\n",
       "      <td>1.0</td>\n",
       "      <td>88.000000</td>\n",
       "    </tr>\n",
       "    <tr>\n",
       "      <th>75%</th>\n",
       "      <td>14.000000</td>\n",
       "      <td>116.000000</td>\n",
       "      <td>1.0</td>\n",
       "      <td>100.000000</td>\n",
       "    </tr>\n",
       "    <tr>\n",
       "      <th>max</th>\n",
       "      <td>17.000000</td>\n",
       "      <td>119.000000</td>\n",
       "      <td>1.0</td>\n",
       "      <td>100.000000</td>\n",
       "    </tr>\n",
       "  </tbody>\n",
       "</table>\n",
       "</div>"
      ],
      "text/plain": [
       "              id      tiempo  examen  calificación\n",
       "count   9.000000    9.000000     9.0      9.000000\n",
       "mean    9.222222  106.666667     1.0     88.666667\n",
       "std     6.280481   12.698425     0.0     11.357817\n",
       "min     1.000000   85.000000     1.0     72.000000\n",
       "25%     3.000000  103.000000     1.0     82.000000\n",
       "50%    11.000000  111.000000     1.0     88.000000\n",
       "75%    14.000000  116.000000     1.0    100.000000\n",
       "max    17.000000  119.000000     1.0    100.000000"
      ]
     },
     "execution_count": 12,
     "metadata": {},
     "output_type": "execute_result"
    }
   ],
   "source": [
    "masculino = datos. query('género == \"m\"')\n",
    "masculino.describe()"
   ]
  },
  {
   "cell_type": "markdown",
   "id": "5b06aef4-dfe3-4ed2-81a8-f303215aef07",
   "metadata": {},
   "source": [
    "El **tiempo promedio** para responder el examen es: 106.66 <br>\n",
    "La **calificación promedio** obtenida del grupo es: 88.66"
   ]
  },
  {
   "cell_type": "markdown",
   "id": "e52a5f24-8bbd-4c62-8832-4b8e822fecd6",
   "metadata": {},
   "source": [
    "## 2. Comportamiento del riesgo\n",
    "¿Cómo  crees  que  se  comporta  el  riesgo  de  entregar  el  examen  conforme transcurre  el  tiempo?Las alumnas tardaron más tiempo en resolver el exámen pero obtuvieron mejor promedio, mientras que los alumnos tardaron menor tiempo, pero con promedio de calificación más baja <br>¿es constante,  creciente,  o  decreciente? el riesgo es creciente <br>Según  tu respuesta  ajusta  un  modelo  exponencial  o  Weibull,  primero  para  todos  los individuos y muestra la función de riesgo."
   ]
  },
  {
   "cell_type": "markdown",
   "id": "00deb384-3631-4030-a3a1-bfc88709ed62",
   "metadata": {},
   "source": [
    "#### Modelo exponencial o de Weibull"
   ]
  },
  {
   "cell_type": "code",
   "execution_count": 13,
   "id": "1b7ed7e5-8c36-439d-aaa6-962d97b4bfe1",
   "metadata": {},
   "outputs": [
    {
     "data": {
      "image/png": "[encoded data removed]",
      "text/plain": [
       "<Figure size 640x480 with 1 Axes>"
      ]
     },
     "metadata": {},
     "output_type": "display_data"
    }
   ],
   "source": [
    "#Realizamos el modelo de weibull y graficamos la función de riesgo\n",
    "weibgpo = WeibullFitter().fit(datos['tiempo'], datos ['examen'])\n",
    "weibgpo.plot_hazard()\n",
    "plt.xlabel('Tiempo (en minutos)')\n",
    "plt.show()"
   ]
  },
  {
   "cell_type": "code",
   "execution_count": 14,
   "id": "294a5eba-cefe-4b91-a989-59b57419dffc",
   "metadata": {},
   "outputs": [
    {
     "data": {
      "image/png": "[encoded data removed]",
      "text/plain": [
       "<Figure size 640x480 with 1 Axes>"
      ]
     },
     "metadata": {},
     "output_type": "display_data"
    }
   ],
   "source": [
    "#Realizamos el modelo de exponencial y graficamos la función de riesgo\n",
    "expgpo = ExponentialFitter().fit(datos['tiempo'], datos['examen'])\n",
    "expgpo.plot_hazard()\n",
    "plt.xlabel('Tiempo (en minutos).')\n",
    "plt.show()"
   ]
  },
  {
   "cell_type": "code",
   "execution_count": 15,
   "id": "1a6f7c5f-b28b-4299-9f9c-272962f013f3",
   "metadata": {},
   "outputs": [
    {
     "data": {
      "text/plain": [
       "(130.0, 195.0)"
      ]
     },
     "execution_count": 15,
     "metadata": {},
     "output_type": "execute_result"
    }
   ],
   "source": [
    "#verificamos el criterio de Akaike\n",
    "weibgpo.AIC_.round(), expgpo.AIC_.round()"
   ]
  },
  {
   "cell_type": "markdown",
   "id": "5fbc35d2-fecd-4418-bb98-ddacef542341",
   "metadata": {},
   "source": [
    "Nos quedamos con el modelo de Weibull ya que tiene menor criterio de Akaike"
   ]
  },
  {
   "cell_type": "markdown",
   "id": "c5f3f270-f454-41f1-9bee-61d52fe2d9de",
   "metadata": {},
   "source": [
    "## 3. Estimación de modelo"
   ]
  },
  {
   "cell_type": "markdown",
   "id": "681c0251-8c19-4fee-a1ca-d22e0414a4f5",
   "metadata": {},
   "source": [
    "Ahora estima el mismo modelo que planteaste en el inciso anterior, pero para hombres  y  mujeres,  y  grafica  ambas  funciones  de  supervivencia  juntas (empalmadas), ¿gráficamente quien tarda más en entregar el examen?"
   ]
  },
  {
   "cell_type": "markdown",
   "id": "6c7152c1-4ceb-40e2-a410-8d083d23cdc3",
   "metadata": {},
   "source": [
    "#### Gráfica de funciones de supervivencia (empalmadas)"
   ]
  },
  {
   "cell_type": "code",
   "execution_count": 16,
   "id": "6c9bf1f8-606c-4864-985a-9873d1b75be8",
   "metadata": {},
   "outputs": [
    {
     "data": {
      "image/png": "[encoded data removed]",
      "text/plain": [
       "<Figure size 640x480 with 1 Axes>"
      ]
     },
     "metadata": {},
     "output_type": "display_data"
    }
   ],
   "source": [
    "weibFemenino = WeibullFitter().fit (femenino ['tiempo'], femenino['examen'])\n",
    "weibMasculino = WeibullFitter().fit (masculino ['tiempo'], masculino['examen'])\n",
    "weibFemenino.plot_survival_function(label ='Mujeres')\n",
    "weibMasculino.plot_survival_function(label ='Hombres')\n",
    "plt.xlabel ('Tiempo (minutos)')\n",
    "plt.show()"
   ]
  },
  {
   "cell_type": "markdown",
   "id": "e69ce9d1-bafd-4d3a-b648-dc9f2cf60fbb",
   "metadata": {},
   "source": [
    "Observando la gráfica podemos ver que las alumnas tardan más en entregar el examen"
   ]
  },
  {
   "cell_type": "markdown",
   "id": "8b0e847d-b320-41b2-8ad6-9bccd00a12f1",
   "metadata": {},
   "source": [
    "## 4. Estime  la  función  de  supervivencia del  tiempo  de  entrega del  examen"
   ]
  },
  {
   "cell_type": "markdown",
   "id": "054c33c7-98b9-473e-b063-fac02593c309",
   "metadata": {},
   "source": [
    "Estime  la  función  de  supervivencia del  tiempo  de  entrega del  examen  de todos los alumnos utilizando Kaplan-Meier, muestre los valores de la función de supervivencia, los valores del intervalo de confianza al 95%, asi como la gráfica respectiva de la función de supervivencia con sus intervalos."
   ]
  },
  {
   "cell_type": "markdown",
   "id": "f2d59b13-2203-411c-93c2-de33eee25b2d",
   "metadata": {},
   "source": [
    "#### Gráfica"
   ]
  },
  {
   "cell_type": "code",
   "execution_count": 17,
   "id": "87858ae4-f935-4e0a-8e6f-384a83846ede",
   "metadata": {},
   "outputs": [
    {
     "data": {
      "image/png": "[encoded data removed]",
      "text/plain": [
       "<Figure size 640x480 with 1 Axes>"
      ]
     },
     "metadata": {},
     "output_type": "display_data"
    }
   ],
   "source": [
    "kmgpo = KaplanMeierFitter().fit(datos['tiempo'], datos['examen'])\n",
    "kmgpo.plot_survival_function(label = 'Grupo')\n",
    "plt.xlabel('Tiempo (minutos)')\n",
    "plt.show()"
   ]
  },
  {
   "cell_type": "markdown",
   "id": "b2209e11-57d7-4f2f-875e-5ed0f4d365e6",
   "metadata": {},
   "source": [
    "#### Valores de la Función de Supervivencia"
   ]
  },
  {
   "cell_type": "code",
   "execution_count": 18,
   "id": "b1e29253-96ed-4867-99c8-dfeca8a941bf",
   "metadata": {},
   "outputs": [
    {
     "data": {
      "text/html": [
       "<div>\n",
       "<style scoped>\n",
       "    .dataframe tbody tr th:only-of-type {\n",
       "        vertical-align: middle;\n",
       "    }\n",
       "\n",
       "    .dataframe tbody tr th {\n",
       "        vertical-align: top;\n",
       "    }\n",
       "\n",
       "    .dataframe thead th {\n",
       "        text-align: right;\n",
       "    }\n",
       "</style>\n",
       "<table border=\"1\" class=\"dataframe\">\n",
       "  <thead>\n",
       "    <tr style=\"text-align: right;\">\n",
       "      <th></th>\n",
       "      <th>KM_estimate</th>\n",
       "    </tr>\n",
       "    <tr>\n",
       "      <th>timeline</th>\n",
       "      <th></th>\n",
       "    </tr>\n",
       "  </thead>\n",
       "  <tbody>\n",
       "    <tr>\n",
       "      <th>0.0</th>\n",
       "      <td>1.000000</td>\n",
       "    </tr>\n",
       "    <tr>\n",
       "      <th>85.0</th>\n",
       "      <td>0.941176</td>\n",
       "    </tr>\n",
       "    <tr>\n",
       "      <th>87.0</th>\n",
       "      <td>0.882353</td>\n",
       "    </tr>\n",
       "    <tr>\n",
       "      <th>90.0</th>\n",
       "      <td>0.823529</td>\n",
       "    </tr>\n",
       "    <tr>\n",
       "      <th>99.0</th>\n",
       "      <td>0.764706</td>\n",
       "    </tr>\n",
       "    <tr>\n",
       "      <th>103.0</th>\n",
       "      <td>0.705882</td>\n",
       "    </tr>\n",
       "    <tr>\n",
       "      <th>106.0</th>\n",
       "      <td>0.647059</td>\n",
       "    </tr>\n",
       "    <tr>\n",
       "      <th>108.0</th>\n",
       "      <td>0.529412</td>\n",
       "    </tr>\n",
       "    <tr>\n",
       "      <th>109.0</th>\n",
       "      <td>0.470588</td>\n",
       "    </tr>\n",
       "    <tr>\n",
       "      <th>111.0</th>\n",
       "      <td>0.411765</td>\n",
       "    </tr>\n",
       "    <tr>\n",
       "      <th>112.0</th>\n",
       "      <td>0.352941</td>\n",
       "    </tr>\n",
       "    <tr>\n",
       "      <th>115.0</th>\n",
       "      <td>0.294118</td>\n",
       "    </tr>\n",
       "    <tr>\n",
       "      <th>116.0</th>\n",
       "      <td>0.235294</td>\n",
       "    </tr>\n",
       "    <tr>\n",
       "      <th>118.0</th>\n",
       "      <td>0.176471</td>\n",
       "    </tr>\n",
       "    <tr>\n",
       "      <th>119.0</th>\n",
       "      <td>0.058824</td>\n",
       "    </tr>\n",
       "    <tr>\n",
       "      <th>120.0</th>\n",
       "      <td>0.000000</td>\n",
       "    </tr>\n",
       "  </tbody>\n",
       "</table>\n",
       "</div>"
      ],
      "text/plain": [
       "          KM_estimate\n",
       "timeline             \n",
       "0.0          1.000000\n",
       "85.0         0.941176\n",
       "87.0         0.882353\n",
       "90.0         0.823529\n",
       "99.0         0.764706\n",
       "103.0        0.705882\n",
       "106.0        0.647059\n",
       "108.0        0.529412\n",
       "109.0        0.470588\n",
       "111.0        0.411765\n",
       "112.0        0.352941\n",
       "115.0        0.294118\n",
       "116.0        0.235294\n",
       "118.0        0.176471\n",
       "119.0        0.058824\n",
       "120.0        0.000000"
      ]
     },
     "execution_count": 18,
     "metadata": {},
     "output_type": "execute_result"
    }
   ],
   "source": [
    "kmgpo.survival_function_"
   ]
  },
  {
   "cell_type": "markdown",
   "id": "beb04705-2285-47fd-a0e3-d2b1c3ad9de8",
   "metadata": {},
   "source": [
    "#### Valores del intervalo de confianza"
   ]
  },
  {
   "cell_type": "code",
   "execution_count": 20,
   "id": "c897f04c-09bb-4336-b62f-9ec03c3bf21c",
   "metadata": {},
   "outputs": [
    {
     "data": {
      "text/html": [
       "<div>\n",
       "<style scoped>\n",
       "    .dataframe tbody tr th:only-of-type {\n",
       "        vertical-align: middle;\n",
       "    }\n",
       "\n",
       "    .dataframe tbody tr th {\n",
       "        vertical-align: top;\n",
       "    }\n",
       "\n",
       "    .dataframe thead th {\n",
       "        text-align: right;\n",
       "    }\n",
       "</style>\n",
       "<table border=\"1\" class=\"dataframe\">\n",
       "  <thead>\n",
       "    <tr style=\"text-align: right;\">\n",
       "      <th></th>\n",
       "      <th>KM_estimate_lower_0.95</th>\n",
       "      <th>KM_estimate_upper_0.95</th>\n",
       "    </tr>\n",
       "  </thead>\n",
       "  <tbody>\n",
       "    <tr>\n",
       "      <th>0.0</th>\n",
       "      <td>1.000000</td>\n",
       "      <td>1.000000</td>\n",
       "    </tr>\n",
       "    <tr>\n",
       "      <th>85.0</th>\n",
       "      <td>0.650179</td>\n",
       "      <td>0.991499</td>\n",
       "    </tr>\n",
       "    <tr>\n",
       "      <th>87.0</th>\n",
       "      <td>0.605979</td>\n",
       "      <td>0.969209</td>\n",
       "    </tr>\n",
       "    <tr>\n",
       "      <th>90.0</th>\n",
       "      <td>0.547132</td>\n",
       "      <td>0.939405</td>\n",
       "    </tr>\n",
       "    <tr>\n",
       "      <th>99.0</th>\n",
       "      <td>0.488278</td>\n",
       "      <td>0.904486</td>\n",
       "    </tr>\n",
       "    <tr>\n",
       "      <th>103.0</th>\n",
       "      <td>0.431478</td>\n",
       "      <td>0.865599</td>\n",
       "    </tr>\n",
       "    <tr>\n",
       "      <th>106.0</th>\n",
       "      <td>0.377147</td>\n",
       "      <td>0.823381</td>\n",
       "    </tr>\n",
       "    <tr>\n",
       "      <th>108.0</th>\n",
       "      <td>0.276168</td>\n",
       "      <td>0.730267</td>\n",
       "    </tr>\n",
       "    <tr>\n",
       "      <th>109.0</th>\n",
       "      <td>0.229598</td>\n",
       "      <td>0.679678</td>\n",
       "    </tr>\n",
       "    <tr>\n",
       "      <th>111.0</th>\n",
       "      <td>0.185759</td>\n",
       "      <td>0.626432</td>\n",
       "    </tr>\n",
       "    <tr>\n",
       "      <th>112.0</th>\n",
       "      <td>0.144835</td>\n",
       "      <td>0.570437</td>\n",
       "    </tr>\n",
       "    <tr>\n",
       "      <th>115.0</th>\n",
       "      <td>0.107120</td>\n",
       "      <td>0.511485</td>\n",
       "    </tr>\n",
       "    <tr>\n",
       "      <th>116.0</th>\n",
       "      <td>0.073083</td>\n",
       "      <td>0.449218</td>\n",
       "    </tr>\n",
       "    <tr>\n",
       "      <th>118.0</th>\n",
       "      <td>0.043478</td>\n",
       "      <td>0.383043</td>\n",
       "    </tr>\n",
       "    <tr>\n",
       "      <th>119.0</th>\n",
       "      <td>0.003915</td>\n",
       "      <td>0.235005</td>\n",
       "    </tr>\n",
       "    <tr>\n",
       "      <th>120.0</th>\n",
       "      <td>0.000000</td>\n",
       "      <td>0.000000</td>\n",
       "    </tr>\n",
       "  </tbody>\n",
       "</table>\n",
       "</div>"
      ],
      "text/plain": [
       "       KM_estimate_lower_0.95  KM_estimate_upper_0.95\n",
       "0.0                  1.000000                1.000000\n",
       "85.0                 0.650179                0.991499\n",
       "87.0                 0.605979                0.969209\n",
       "90.0                 0.547132                0.939405\n",
       "99.0                 0.488278                0.904486\n",
       "103.0                0.431478                0.865599\n",
       "106.0                0.377147                0.823381\n",
       "108.0                0.276168                0.730267\n",
       "109.0                0.229598                0.679678\n",
       "111.0                0.185759                0.626432\n",
       "112.0                0.144835                0.570437\n",
       "115.0                0.107120                0.511485\n",
       "116.0                0.073083                0.449218\n",
       "118.0                0.043478                0.383043\n",
       "119.0                0.003915                0.235005\n",
       "120.0                0.000000                0.000000"
      ]
     },
     "execution_count": 20,
     "metadata": {},
     "output_type": "execute_result"
    }
   ],
   "source": [
    "#Obtenemos los valores del intervalo de confianza\n",
    "kmgpo.confidence_interval_survival_function_"
   ]
  },
  {
   "cell_type": "markdown",
   "id": "4f2d16b8-faf6-4c32-862d-f0160ed40178",
   "metadata": {},
   "source": [
    "## 5. Función de Supervivencia Hombres y Mujeres"
   ]
  },
  {
   "cell_type": "markdown",
   "id": "2a57f562-e910-4ac7-a40d-a9ab811a12be",
   "metadata": {},
   "source": [
    "Realice  un  gráfico  donde  muestre  la  función  de  supervivencia de  Kaplan-Meier de los alumnos(m) y de las alumnas(f) con sus respectivos intervalos de confianza. Y comente con base en la gráfica si es posible que el profesor tenga razón respecto a que las alumnas responden más rápido el examen"
   ]
  },
  {
   "cell_type": "code",
   "execution_count": 19,
   "id": "cf85777e-eebb-45da-b25c-f61f28a0cc74",
   "metadata": {},
   "outputs": [
    {
     "data": {
      "image/png": "[encoded data removed]",
      "text/plain": [
       "<Figure size 640x480 with 1 Axes>"
      ]
     },
     "metadata": {},
     "output_type": "display_data"
    }
   ],
   "source": [
    "kmFemenino = KaplanMeierFitter().fit(femenino['tiempo'], femenino['examen'])\n",
    "kmMasculino = KaplanMeierFitter().fit(masculino['tiempo'], masculino['examen'])\n",
    "\n",
    "#Graficamos la funcion de supervivencia\n",
    "kmFemenino.plot_survival_function(label=\"alumnas\")\n",
    "kmMasculino.plot_survival_function(label=\"alumnos\")\n",
    "plt.xlabel(\"Tiempo (minutos)\")\n",
    "plt.show()"
   ]
  },
  {
   "cell_type": "markdown",
   "id": "20b65659-27d4-43ec-b763-89e566af2748",
   "metadata": {},
   "source": [
    "Observamos que los alumnos son quienes responden el examen más rápido por lo que la hipótesis del profesor es incorrecta."
   ]
  },
  {
   "cell_type": "markdown",
   "id": "560e4e2d-112f-4030-b7b6-87025183f6e7",
   "metadata": {},
   "source": [
    "## 6. Log Rank Test"
   ]
  },
  {
   "cell_type": "markdown",
   "id": "d0484afd-d70f-4145-8587-d2b9ac11b2c4",
   "metadata": {},
   "source": [
    "Realice  el  log  ranktest  para  probar  si  las  funciones  de  supervivencia  de alumnos  y  alumnas  para  responder  el  examen  son  iguales.  Comente  el resultado de la prueba de hipótesis y diga si el profesor tiene razón o no "
   ]
  },
  {
   "cell_type": "code",
   "execution_count": 20,
   "id": "aa5977f4-5a70-47b9-b7ac-0a817a13f475",
   "metadata": {},
   "outputs": [
    {
     "data": {
      "text/html": [
       "<div>\n",
       "<style scoped>\n",
       "    .dataframe tbody tr th:only-of-type {\n",
       "        vertical-align: middle;\n",
       "    }\n",
       "\n",
       "    .dataframe tbody tr th {\n",
       "        vertical-align: top;\n",
       "    }\n",
       "\n",
       "    .dataframe thead th {\n",
       "        text-align: right;\n",
       "    }\n",
       "</style>\n",
       "<table border=\"1\" class=\"dataframe\">\n",
       "  <tbody>\n",
       "    <tr>\n",
       "      <th>t_0</th>\n",
       "      <td>-1</td>\n",
       "    </tr>\n",
       "    <tr>\n",
       "      <th>null_distribution</th>\n",
       "      <td>chi squared</td>\n",
       "    </tr>\n",
       "    <tr>\n",
       "      <th>degrees_of_freedom</th>\n",
       "      <td>1</td>\n",
       "    </tr>\n",
       "    <tr>\n",
       "      <th>test_name</th>\n",
       "      <td>logrank_test</td>\n",
       "    </tr>\n",
       "  </tbody>\n",
       "</table>\n",
       "</div><table border=\"1\" class=\"dataframe\">\n",
       "  <thead>\n",
       "    <tr style=\"text-align: right;\">\n",
       "      <th></th>\n",
       "      <th>test_statistic</th>\n",
       "      <th>p</th>\n",
       "      <th>-log2(p)</th>\n",
       "    </tr>\n",
       "  </thead>\n",
       "  <tbody>\n",
       "    <tr>\n",
       "      <th>0</th>\n",
       "      <td>0.15</td>\n",
       "      <td>0.69</td>\n",
       "      <td>0.53</td>\n",
       "    </tr>\n",
       "  </tbody>\n",
       "</table>"
      ],
      "text/latex": [
       "\\begin{tabular}{lrrr}\n",
       " & test_statistic & p & -log2(p) \\\\\n",
       "0 & 0.15 & 0.69 & 0.53 \\\\\n",
       "\\end{tabular}\n"
      ],
      "text/plain": [
       "<lifelines.StatisticalResult: logrank_test>\n",
       "               t_0 = -1\n",
       " null_distribution = chi squared\n",
       "degrees_of_freedom = 1\n",
       "         test_name = logrank_test\n",
       "\n",
       "---\n",
       " test_statistic    p  -log2(p)\n",
       "           0.15 0.69      0.53"
      ]
     },
     "metadata": {},
     "output_type": "display_data"
    }
   ],
   "source": [
    "lrt = logrank_test(femenino['tiempo'], masculino['tiempo'],\n",
    "                  femenino['examen'], masculino['examen'])\n",
    "lrt.print_summary()"
   ]
  },
  {
   "cell_type": "markdown",
   "id": "c7a66650-972f-4779-9f13-b44b5cccae21",
   "metadata": {},
   "source": [
    "Ho: funciones de supervivencia = <br>\n",
    "Ha: funciones de supervivencia $\\neq$"
   ]
  },
  {
   "cell_type": "markdown",
   "id": "244b8ea6-e97f-4041-bf98-6ae462e2e435",
   "metadata": {},
   "source": [
    "p-valor< $\\alpha$ -> Rechazamos H0<br>\n",
    "0.69<0.05 $\\therefore$No Rechazamos H0<br>\n",
    "$\\Rightarrow$ A un 95% de confianza no rechazamos h0 y entonces *las funciones de supervivencia son iguales* "
   ]
  },
  {
   "cell_type": "markdown",
   "id": "94119cef-5670-43a6-922b-b5c5e5b4e648",
   "metadata": {},
   "source": [
    "## 7. Modelo de Cox"
   ]
  },
  {
   "cell_type": "markdown",
   "id": "50354650-204f-4b7a-ac0c-f4cf252a57ce",
   "metadata": {},
   "source": [
    "El profesor tambien sospecha que quienes entregan el examen más rápido es porque  no  estudiaron,  por  tanto no  saben  que  responder y entregan  el examen casi inmediatamente. Estime  un  modelo  de  cox de  riesgos  proporcionales  donde  utilice  como variables  explicativas  el  género  y  la  calificación  obtenida,  para  explicar  la función de riesgo de entregar el examen."
   ]
  },
  {
   "cell_type": "code",
   "execution_count": 21,
   "id": "c979a84f-9f2e-4a6b-873d-9df392466abf",
   "metadata": {},
   "outputs": [],
   "source": [
    "#Cambiamos identificadores\n",
    "datoscph = datos.copy()\n",
    "datoscph['género']= datoscph['género'].map({'m':0,'f':1})"
   ]
  },
  {
   "cell_type": "code",
   "execution_count": 22,
   "id": "a1dad172-99fc-4361-ba63-9f1236cba8b8",
   "metadata": {},
   "outputs": [
    {
     "data": {
      "text/html": [
       "<div>\n",
       "<style scoped>\n",
       "    .dataframe tbody tr th:only-of-type {\n",
       "        vertical-align: middle;\n",
       "    }\n",
       "\n",
       "    .dataframe tbody tr th {\n",
       "        vertical-align: top;\n",
       "    }\n",
       "\n",
       "    .dataframe thead th {\n",
       "        text-align: right;\n",
       "    }\n",
       "</style>\n",
       "<table border=\"1\" class=\"dataframe\">\n",
       "  <tbody>\n",
       "    <tr>\n",
       "      <th>model</th>\n",
       "      <td>lifelines.CoxPHFitter</td>\n",
       "    </tr>\n",
       "    <tr>\n",
       "      <th>duration col</th>\n",
       "      <td>'tiempo'</td>\n",
       "    </tr>\n",
       "    <tr>\n",
       "      <th>event col</th>\n",
       "      <td>'examen'</td>\n",
       "    </tr>\n",
       "    <tr>\n",
       "      <th>baseline estimation</th>\n",
       "      <td>breslow</td>\n",
       "    </tr>\n",
       "    <tr>\n",
       "      <th>number of observations</th>\n",
       "      <td>17</td>\n",
       "    </tr>\n",
       "    <tr>\n",
       "      <th>number of events observed</th>\n",
       "      <td>17</td>\n",
       "    </tr>\n",
       "    <tr>\n",
       "      <th>partial log-likelihood</th>\n",
       "      <td>-33.31</td>\n",
       "    </tr>\n",
       "    <tr>\n",
       "      <th>time fit was run</th>\n",
       "      <td>2023-03-16 20:55:22 UTC</td>\n",
       "    </tr>\n",
       "  </tbody>\n",
       "</table>\n",
       "</div><table border=\"1\" class=\"dataframe\">\n",
       "  <thead>\n",
       "    <tr style=\"text-align: right;\">\n",
       "      <th style=\"min-width: 12px;\"></th>\n",
       "      <th style=\"min-width: 12px;\">coef</th>\n",
       "      <th style=\"min-width: 12px;\">exp(coef)</th>\n",
       "      <th style=\"min-width: 12px;\">se(coef)</th>\n",
       "      <th style=\"min-width: 12px;\">coef lower 95%</th>\n",
       "      <th style=\"min-width: 12px;\">coef upper 95%</th>\n",
       "      <th style=\"min-width: 12px;\">exp(coef) lower 95%</th>\n",
       "      <th style=\"min-width: 12px;\">exp(coef) upper 95%</th>\n",
       "      <th style=\"min-width: 12px;\">cmp to</th>\n",
       "      <th style=\"min-width: 12px;\">z</th>\n",
       "      <th style=\"min-width: 12px;\">p</th>\n",
       "      <th style=\"min-width: 12px;\">-log2(p)</th>\n",
       "    </tr>\n",
       "  </thead>\n",
       "  <tbody>\n",
       "    <tr>\n",
       "      <th>id</th>\n",
       "      <td>0.10</td>\n",
       "      <td>1.10</td>\n",
       "      <td>0.24</td>\n",
       "      <td>-0.36</td>\n",
       "      <td>0.56</td>\n",
       "      <td>0.70</td>\n",
       "      <td>1.75</td>\n",
       "      <td>0.00</td>\n",
       "      <td>0.42</td>\n",
       "      <td>0.67</td>\n",
       "      <td>0.57</td>\n",
       "    </tr>\n",
       "    <tr>\n",
       "      <th>calificación</th>\n",
       "      <td>0.06</td>\n",
       "      <td>1.06</td>\n",
       "      <td>0.13</td>\n",
       "      <td>-0.19</td>\n",
       "      <td>0.30</td>\n",
       "      <td>0.83</td>\n",
       "      <td>1.36</td>\n",
       "      <td>0.00</td>\n",
       "      <td>0.47</td>\n",
       "      <td>0.64</td>\n",
       "      <td>0.64</td>\n",
       "    </tr>\n",
       "    <tr>\n",
       "      <th>género</th>\n",
       "      <td>-0.50</td>\n",
       "      <td>0.60</td>\n",
       "      <td>0.80</td>\n",
       "      <td>-2.08</td>\n",
       "      <td>1.07</td>\n",
       "      <td>0.13</td>\n",
       "      <td>2.91</td>\n",
       "      <td>0.00</td>\n",
       "      <td>-0.63</td>\n",
       "      <td>0.53</td>\n",
       "      <td>0.92</td>\n",
       "    </tr>\n",
       "  </tbody>\n",
       "</table><br><div>\n",
       "<style scoped>\n",
       "    .dataframe tbody tr th:only-of-type {\n",
       "        vertical-align: middle;\n",
       "    }\n",
       "\n",
       "    .dataframe tbody tr th {\n",
       "        vertical-align: top;\n",
       "    }\n",
       "\n",
       "    .dataframe thead th {\n",
       "        text-align: right;\n",
       "    }\n",
       "</style>\n",
       "<table border=\"1\" class=\"dataframe\">\n",
       "  <tbody>\n",
       "    <tr>\n",
       "      <th>Concordance</th>\n",
       "      <td>0.51</td>\n",
       "    </tr>\n",
       "    <tr>\n",
       "      <th>Partial AIC</th>\n",
       "      <td>72.61</td>\n",
       "    </tr>\n",
       "    <tr>\n",
       "      <th>log-likelihood ratio test</th>\n",
       "      <td>0.40 on 3 df</td>\n",
       "    </tr>\n",
       "    <tr>\n",
       "      <th>-log2(p) of ll-ratio test</th>\n",
       "      <td>0.09</td>\n",
       "    </tr>\n",
       "  </tbody>\n",
       "</table>\n",
       "</div>"
      ],
      "text/latex": [
       "\\begin{tabular}{lrrrrrrrrrrr}\n",
       " & coef & exp(coef) & se(coef) & coef lower 95% & coef upper 95% & exp(coef) lower 95% & exp(coef) upper 95% & cmp to & z & p & -log2(p) \\\\\n",
       "covariate &  &  &  &  &  &  &  &  &  &  &  \\\\\n",
       "id & 0.10 & 1.10 & 0.24 & -0.36 & 0.56 & 0.70 & 1.75 & 0.00 & 0.42 & 0.67 & 0.57 \\\\\n",
       "calificación & 0.06 & 1.06 & 0.13 & -0.19 & 0.30 & 0.83 & 1.36 & 0.00 & 0.47 & 0.64 & 0.64 \\\\\n",
       "género & -0.50 & 0.60 & 0.80 & -2.08 & 1.07 & 0.13 & 2.91 & 0.00 & -0.63 & 0.53 & 0.92 \\\\\n",
       "\\end{tabular}\n"
      ],
      "text/plain": [
       "<lifelines.CoxPHFitter: fitted with 17 total observations, 0 right-censored observations>\n",
       "             duration col = 'tiempo'\n",
       "                event col = 'examen'\n",
       "      baseline estimation = breslow\n",
       "   number of observations = 17\n",
       "number of events observed = 17\n",
       "   partial log-likelihood = -33.31\n",
       "         time fit was run = 2023-03-16 20:55:22 UTC\n",
       "\n",
       "---\n",
       "               coef  exp(coef)   se(coef)   coef lower 95%   coef upper 95%  exp(coef) lower 95%  exp(coef) upper 95%\n",
       "covariate                                                                                                            \n",
       "id             0.10       1.10       0.24            -0.36             0.56                 0.70                 1.75\n",
       "calificación   0.06       1.06       0.13            -0.19             0.30                 0.83                 1.36\n",
       "género        -0.50       0.60       0.80            -2.08             1.07                 0.13                 2.91\n",
       "\n",
       "               cmp to     z    p   -log2(p)\n",
       "covariate                                  \n",
       "id               0.00  0.42 0.67       0.57\n",
       "calificación     0.00  0.47 0.64       0.64\n",
       "género           0.00 -0.63 0.53       0.92\n",
       "---\n",
       "Concordance = 0.51\n",
       "Partial AIC = 72.61\n",
       "log-likelihood ratio test = 0.40 on 3 df\n",
       "-log2(p) of ll-ratio test = 0.09"
      ]
     },
     "metadata": {},
     "output_type": "display_data"
    }
   ],
   "source": [
    "cph = CoxPHFitter().fit(datoscph, 'tiempo','examen')\n",
    "cph.print_summary()"
   ]
  },
  {
   "cell_type": "markdown",
   "id": "b6cc8273-7b36-4f5f-8278-3dda46145751",
   "metadata": {},
   "source": [
    "## 8. Interpretación de resultados"
   ]
  },
  {
   "cell_type": "code",
   "execution_count": 23,
   "id": "d056c6d7-6591-442e-baac-643b48441bab",
   "metadata": {},
   "outputs": [
    {
     "data": {
      "text/plain": [
       "<AxesSubplot:xlabel='log(HR) (95% CI)'>"
      ]
     },
     "execution_count": 23,
     "metadata": {},
     "output_type": "execute_result"
    },
    {
     "data": {
      "image/png": "[encoded data removed]",
      "text/plain": [
       "<Figure size 640x480 with 1 Axes>"
      ]
     },
     "metadata": {},
     "output_type": "display_data"
    }
   ],
   "source": [
    "cph.plot()"
   ]
  },
  {
   "cell_type": "markdown",
   "id": "0255b61e-49e8-482c-8ff4-8bced00de343",
   "metadata": {},
   "source": [
    "**Prueba de Hipótesis.**<br>\n",
    "**Ho:** Bi = 0<br>\n",
    "**H1:** Bi $\\neq$ 0<br>\n",
    " p-value < $\\alpha$ (.05) ->  Se rechaza Ho.\n",
    " \n",
    " **p-value de calificación** = 0.64$>\\alpha$, $\\therefore$No rechazamos H0  <br> \n",
    " **p-value de género** = 0.53$>\\alpha$, $\\therefore$No rechazamos H0 <br>"
   ]
  },
  {
   "cell_type": "markdown",
   "id": "a977f463-0282-492c-ac11-ac44844b1453",
   "metadata": {},
   "source": [
    "Las variables no son explicativas para el modelo porque no rechazamos H0, por lo tanto estas variables se vuelven 0, lo cual hace que no sumen en el modelo."
   ]
  },
  {
   "cell_type": "markdown",
   "id": "ba1a6206-ed00-42aa-938f-01e748636689",
   "metadata": {},
   "source": [
    "## 9. Funciones de Supervivencia de alumnas y alumnos con Modelo de Cox"
   ]
  },
  {
   "cell_type": "markdown",
   "id": "6ed13b28-26f5-4fb1-857b-41a5c916f145",
   "metadata": {},
   "source": [
    "Utilice cph.plot_partial_effects_on_outcome(covariates='variable', values=[0,1]) para  estimar  las  funciones  de  supervivencia  de  alumnos  y alumnas  de  acuerdo  con  el  modelo  de  cox  ¿obtiene  resultados  similares  al inciso  d,  es  decir,  coincide  con  las  funciones  de  supervivencia de  Kaplan-Meier?"
   ]
  },
  {
   "cell_type": "code",
   "execution_count": 24,
   "id": "b03821e8-b777-41c7-96d5-6d215ac64c93",
   "metadata": {},
   "outputs": [
    {
     "data": {
      "image/png": "[encoded data removed]",
      "text/plain": [
       "<Figure size 640x480 with 1 Axes>"
      ]
     },
     "metadata": {},
     "output_type": "display_data"
    }
   ],
   "source": [
    "cph.plot_partial_effects_on_outcome(covariates='examen', values=[0,1])\n",
    "plt.xlabel(\"TIempo (minutos)\")\n",
    "plt.show()"
   ]
  },
  {
   "cell_type": "markdown",
   "id": "f1099f73-f57f-44a3-af50-86f6043ede46",
   "metadata": {},
   "source": [
    "Si, coincide con el inciso d"
   ]
  },
  {
   "cell_type": "markdown",
   "id": "2bd850ba-f693-45a6-b5db-0154b026f0a4",
   "metadata": {},
   "source": [
    "## 10. Interpretación de resultados finales"
   ]
  },
  {
   "cell_type": "markdown",
   "id": "b826aecc-2c18-4c23-9f63-20d4f7e72a4d",
   "metadata": {},
   "source": [
    "Por último, con base en la interpretación del modelo de cox y la significancia de los coeficientes,  comente  si  el  profesor  tiene  razón  al  señalar  que  las alumnas  responden  en  menor  tiempo  el  examen,  y  si  el  profesor  también tiene razón al señalar que los que entregan el examen rápido no estudiaron y por tanto obtienen menor calificación."
   ]
  },
  {
   "cell_type": "markdown",
   "id": "7332edc7-4d1b-42d1-8cc0-54e3c43f72d2",
   "metadata": {},
   "source": [
    "<b>Evento a evaluar:</b> Entregar el examen<br>\n",
    "****\n",
    "<b>Significancia de los coeficientes:</b> <br>\n",
    "<b>Si coef < 0</b> = 1-exp(coef)<br>\n",
    "<b>Si coef > 0</b> = exp(coef)-1<br>\n",
    "<br>\n",
    "    <b> Variable: calificación</b> <br> \n",
    "    exp(coef)-1 = exp(0.06)-1 = 1.06-1 = 0.06<br>\n",
    " <br>\n",
    "    <b> Variable: género</b> <br> \n",
    "    1-exp(coef) = 1-exp(-0.50)= 1 - 0.60 = 0.40<br>\n",
    "****\n",
    "El profesor no tiene razón al señalar que las alumnas responden en menor tiempo el examen ya que el promedio de entrega de los varones es mayor al de las mujeres.\n",
    "****\n",
    "El profesor tiene razón al decir que los alumnos que entregaron en menor tiempo su examen tienen menor calificación ya que el promedio de entrega de los varones es menor al de las mujeres y ellos obtuvieron menor promedio de calificación"
   ]
  },
  {
   "cell_type": "code",
   "execution_count": null,
   "id": "f7ea9680-6495-41e6-b2de-387119f4c5bf",
   "metadata": {},
   "outputs": [],
   "source": []
  }
 ],
 "metadata": {
  "kernelspec": {
   "display_name": "Python 3 (ipykernel)",
   "language": "python",
   "name": "python3"
  },
  "language_info": {
   "codemirror_mode": {
    "name": "ipython",
    "version": 3
   },
   "file_extension": ".py",
   "mimetype": "text/x-python",
   "name": "python",
   "nbconvert_exporter": "python",
   "pygments_lexer": "ipython3",
   "version": "3.9.13"
  }
 },
 "nbformat": 4,
 "nbformat_minor": 5
}
