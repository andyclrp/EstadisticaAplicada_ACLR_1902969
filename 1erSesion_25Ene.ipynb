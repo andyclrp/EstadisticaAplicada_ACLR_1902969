{
 "cells": [
  {
   "cell_type": "markdown",
   "id": "466d86d3",
   "metadata": {},
   "source": [
    "# ESTADÍSTICA APLICADA #\n",
    "## ANDREA CAROLINA LÓPEZ RUIZ ##\n",
    "**25 ENERO - SESIÓN  1**"
   ]
  },
  {
   "cell_type": "markdown",
   "id": "cae76292",
   "metadata": {},
   "source": [
    "$y_i=a+b_xi+\\epsilon_i$"
   ]
  },
  {
   "cell_type": "markdown",
   "id": "fc61f91a",
   "metadata": {},
   "source": [
    "$y_i=a+bx_i+\\varepsilon_i$"
   ]
  },
  {
   "cell_type": "code",
   "execution_count": 5,
   "id": "38ebcd69",
   "metadata": {},
   "outputs": [],
   "source": [
    "variable1=1.34"
   ]
  },
  {
   "cell_type": "code",
   "execution_count": 6,
   "id": "245559d0",
   "metadata": {},
   "outputs": [
    {
     "data": {
      "text/plain": [
       "1.34"
      ]
     },
     "execution_count": 6,
     "metadata": {},
     "output_type": "execute_result"
    }
   ],
   "source": [
    "variable1"
   ]
  },
  {
   "cell_type": "code",
   "execution_count": 7,
   "id": "d06e1d84",
   "metadata": {},
   "outputs": [],
   "source": [
    "variable2=2"
   ]
  },
  {
   "cell_type": "code",
   "execution_count": 8,
   "id": "615828ba",
   "metadata": {},
   "outputs": [
    {
     "data": {
      "text/plain": [
       "2"
      ]
     },
     "execution_count": 8,
     "metadata": {},
     "output_type": "execute_result"
    }
   ],
   "source": [
    "variable2"
   ]
  },
  {
   "cell_type": "code",
   "execution_count": 13,
   "id": "635dde38",
   "metadata": {},
   "outputs": [],
   "source": [
    "variable3=\"A\""
   ]
  },
  {
   "cell_type": "code",
   "execution_count": 14,
   "id": "1e82c1ac",
   "metadata": {},
   "outputs": [
    {
     "data": {
      "text/plain": [
       "float"
      ]
     },
     "execution_count": 14,
     "metadata": {},
     "output_type": "execute_result"
    }
   ],
   "source": [
    "type(variable1)"
   ]
  },
  {
   "cell_type": "code",
   "execution_count": 15,
   "id": "f6208b47",
   "metadata": {},
   "outputs": [
    {
     "data": {
      "text/plain": [
       "int"
      ]
     },
     "execution_count": 15,
     "metadata": {},
     "output_type": "execute_result"
    }
   ],
   "source": [
    "type(variable2)"
   ]
  },
  {
   "cell_type": "code",
   "execution_count": 16,
   "id": "47a3f14b",
   "metadata": {},
   "outputs": [
    {
     "data": {
      "text/plain": [
       "str"
      ]
     },
     "execution_count": 16,
     "metadata": {},
     "output_type": "execute_result"
    }
   ],
   "source": [
    "type(variable3)"
   ]
  },
  {
   "cell_type": "code",
   "execution_count": 17,
   "id": "6f740219",
   "metadata": {},
   "outputs": [
    {
     "data": {
      "text/plain": [
       "2.0"
      ]
     },
     "execution_count": 17,
     "metadata": {},
     "output_type": "execute_result"
    }
   ],
   "source": [
    "float(variable2)"
   ]
  },
  {
   "cell_type": "code",
   "execution_count": 19,
   "id": "36df5e2b",
   "metadata": {},
   "outputs": [],
   "source": [
    "variable2=float(variable2)"
   ]
  },
  {
   "cell_type": "code",
   "execution_count": 20,
   "id": "21972ce0",
   "metadata": {},
   "outputs": [
    {
     "data": {
      "text/plain": [
       "2.0"
      ]
     },
     "execution_count": 20,
     "metadata": {},
     "output_type": "execute_result"
    }
   ],
   "source": [
    "float(variable2)"
   ]
  },
  {
   "cell_type": "code",
   "execution_count": 21,
   "id": "43615583",
   "metadata": {},
   "outputs": [
    {
     "name": "stdout",
     "output_type": "stream",
     "text": [
      "1.34 2.0\n"
     ]
    }
   ],
   "source": [
    "print(variable1,variable2)"
   ]
  },
  {
   "cell_type": "code",
   "execution_count": 22,
   "id": "93d5035b",
   "metadata": {},
   "outputs": [
    {
     "data": {
      "text/plain": [
       "(1.34, 2.0)"
      ]
     },
     "execution_count": 22,
     "metadata": {},
     "output_type": "execute_result"
    }
   ],
   "source": [
    "variable1,variable2"
   ]
  },
  {
   "cell_type": "code",
   "execution_count": 23,
   "id": "dd00a518",
   "metadata": {},
   "outputs": [
    {
     "name": "stdout",
     "output_type": "stream",
     "text": [
      "Este es un dos decimal: 2.0\n"
     ]
    }
   ],
   "source": [
    "print(\"Este es un dos decimal:\",variable2)"
   ]
  },
  {
   "cell_type": "code",
   "execution_count": 25,
   "id": "8e3be88e",
   "metadata": {},
   "outputs": [
    {
     "name": "stdout",
     "output_type": "stream",
     "text": [
      "Este es un dos decimal: 2.0\n"
     ]
    }
   ],
   "source": [
    "print(f\"Este es un dos decimal: {variable2}\")"
   ]
  },
  {
   "cell_type": "code",
   "execution_count": 26,
   "id": "1a8b80fe",
   "metadata": {},
   "outputs": [
    {
     "data": {
      "text/plain": [
       "True"
      ]
     },
     "execution_count": 26,
     "metadata": {},
     "output_type": "execute_result"
    }
   ],
   "source": [
    "7>5"
   ]
  },
  {
   "cell_type": "code",
   "execution_count": 27,
   "id": "00df9ee4",
   "metadata": {},
   "outputs": [
    {
     "data": {
      "text/plain": [
       "False"
      ]
     },
     "execution_count": 27,
     "metadata": {},
     "output_type": "execute_result"
    }
   ],
   "source": [
    "7>10"
   ]
  },
  {
   "cell_type": "code",
   "execution_count": 28,
   "id": "18a839ad",
   "metadata": {},
   "outputs": [
    {
     "data": {
      "text/plain": [
       "False"
      ]
     },
     "execution_count": 28,
     "metadata": {},
     "output_type": "execute_result"
    }
   ],
   "source": [
    "7>5 & 7>10"
   ]
  },
  {
   "cell_type": "code",
   "execution_count": 29,
   "id": "e9165d6d",
   "metadata": {},
   "outputs": [
    {
     "data": {
      "text/plain": [
       "7"
      ]
     },
     "execution_count": 29,
     "metadata": {},
     "output_type": "execute_result"
    }
   ],
   "source": [
    "10-3"
   ]
  },
  {
   "cell_type": "code",
   "execution_count": 30,
   "id": "a6fb06b4",
   "metadata": {},
   "outputs": [
    {
     "data": {
      "text/plain": [
       "10"
      ]
     },
     "execution_count": 30,
     "metadata": {},
     "output_type": "execute_result"
    }
   ],
   "source": [
    "5*2"
   ]
  },
  {
   "cell_type": "code",
   "execution_count": 32,
   "id": "8bc5db16",
   "metadata": {},
   "outputs": [
    {
     "data": {
      "text/plain": [
       "9"
      ]
     },
     "execution_count": 32,
     "metadata": {},
     "output_type": "execute_result"
    }
   ],
   "source": [
    "3**2"
   ]
  },
  {
   "cell_type": "code",
   "execution_count": 34,
   "id": "3f23286a",
   "metadata": {},
   "outputs": [
    {
     "data": {
      "text/plain": [
       "9"
      ]
     },
     "execution_count": 34,
     "metadata": {},
     "output_type": "execute_result"
    }
   ],
   "source": [
    "pow(3,2)"
   ]
  },
  {
   "cell_type": "code",
   "execution_count": 35,
   "id": "be5595b9",
   "metadata": {},
   "outputs": [],
   "source": [
    "alumno1=[\"Alfonso\",\"González \",21]"
   ]
  },
  {
   "cell_type": "code",
   "execution_count": 37,
   "id": "0d2e1cdd",
   "metadata": {},
   "outputs": [],
   "source": [
    "estadistica_g4 = ['Andrea', 'Alfonso', 'Polo', 'Daniel']"
   ]
  },
  {
   "cell_type": "code",
   "execution_count": 51,
   "id": "1c63cac3",
   "metadata": {},
   "outputs": [
    {
     "data": {
      "text/plain": [
       "['Alfonso', 'Polo', 'José']"
      ]
     },
     "execution_count": 51,
     "metadata": {},
     "output_type": "execute_result"
    }
   ],
   "source": [
    "estadistica_g4"
   ]
  },
  {
   "cell_type": "code",
   "execution_count": 41,
   "id": "a59937f6",
   "metadata": {},
   "outputs": [
    {
     "data": {
      "text/plain": [
       "'Alfonso'"
      ]
     },
     "execution_count": 41,
     "metadata": {},
     "output_type": "execute_result"
    }
   ],
   "source": [
    "estadistica_g4[1]"
   ]
  },
  {
   "cell_type": "code",
   "execution_count": 42,
   "id": "ab7fa8cf",
   "metadata": {},
   "outputs": [
    {
     "data": {
      "text/plain": [
       "('Alfonso', 'Andrea')"
      ]
     },
     "execution_count": 42,
     "metadata": {},
     "output_type": "execute_result"
    }
   ],
   "source": [
    "estadistica_g4[1],estadistica_g4[0]"
   ]
  },
  {
   "cell_type": "code",
   "execution_count": 52,
   "id": "4b24b775",
   "metadata": {},
   "outputs": [],
   "source": [
    "estadistica_g4.append(\"Andrea\")"
   ]
  },
  {
   "cell_type": "code",
   "execution_count": 44,
   "id": "7d176afb",
   "metadata": {},
   "outputs": [
    {
     "data": {
      "text/plain": [
       "['Andrea', 'Alfonso', 'Polo', 'Daniel', 'José']"
      ]
     },
     "execution_count": 44,
     "metadata": {},
     "output_type": "execute_result"
    }
   ],
   "source": [
    "estadistica_g4"
   ]
  },
  {
   "cell_type": "code",
   "execution_count": 54,
   "id": "b47c1c6e",
   "metadata": {},
   "outputs": [],
   "source": [
    "estadistica_g4.remove(\"Andrea\")"
   ]
  },
  {
   "cell_type": "code",
   "execution_count": 55,
   "id": "e1c1070b",
   "metadata": {},
   "outputs": [
    {
     "data": {
      "text/plain": [
       "['Alfonso', 'Polo', 'José']"
      ]
     },
     "execution_count": 55,
     "metadata": {},
     "output_type": "execute_result"
    }
   ],
   "source": [
    "estadistica_g4"
   ]
  },
  {
   "cell_type": "code",
   "execution_count": null,
   "id": "4544a823",
   "metadata": {},
   "outputs": [],
   "source": []
  }
 ],
 "metadata": {
  "kernelspec": {
   "display_name": "Python 3 (ipykernel)",
   "language": "python",
   "name": "python3"
  },
  "language_info": {
   "codemirror_mode": {
    "name": "ipython",
    "version": 3
   },
   "file_extension": ".py",
   "mimetype": "text/x-python",
   "name": "python",
   "nbconvert_exporter": "python",
   "pygments_lexer": "ipython3",
   "version": "3.9.13"
  }
 },
 "nbformat": 4,
 "nbformat_minor": 5
}
